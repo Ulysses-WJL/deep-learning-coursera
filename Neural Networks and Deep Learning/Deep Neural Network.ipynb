{
 "cells": [
  {
   "cell_type": "markdown",
   "metadata": {},
   "source": [
    "# Deep Neural Network for Image Classification: Application\n"
   ]
  },
  {
   "cell_type": "code",
   "execution_count": 1,
   "metadata": {},
   "outputs": [],
   "source": [
    "import time\n",
    "import numpy as np\n",
    "import matplotlib.pyplot as plt\n",
    "import h5py\n",
    "from skimage import transform\n",
    "\n",
    "%matplotlib inline\n",
    "plt.rcParams['figure.figsize'] = (10, 8.0) # set default size of plots\n",
    "plt.rcParams['image.interpolation'] = 'nearest'\n",
    "plt.rcParams['image.cmap'] = 'gray'\n",
    "plt.rcParams['font.family'] = 'DejaVu Sans Mono'\n",
    "\n",
    "np.random.seed(1)"
   ]
  },
  {
   "cell_type": "code",
   "execution_count": 2,
   "metadata": {},
   "outputs": [],
   "source": [
    "np.set_printoptions(suppress=True, precision=5)"
   ]
  },
  {
   "cell_type": "code",
   "execution_count": 3,
   "metadata": {},
   "outputs": [
    {
     "output_type": "execute_result",
     "data": {
      "text/plain": "<KeysViewHDF5 ['list_classes', 'test_set_x', 'test_set_y']>"
     },
     "metadata": {},
     "execution_count": 3
    }
   ],
   "source": [
    "test = h5py.File('./datasets/test_catvnoncat.h5', 'r')\n",
    "test.keys()"
   ]
  },
  {
   "cell_type": "code",
   "execution_count": 4,
   "metadata": {},
   "outputs": [],
   "source": [
    "def load_data():\n",
    "    test_data = h5py.File('./datasets/test_catvnoncat.h5', 'r')\n",
    "    test_set_x =  np.array(test_data['test_set_x'][:])\n",
    "    test_set_y =  np.array(test_data['test_set_y'][:])\n",
    "#     test_set_y = test_set_y.reshape((-1, 1))\n",
    "\n",
    "    train_data = h5py.File('./datasets/train_catvnoncat.h5', 'r')\n",
    "    train_set_x =  np.array(train_data['train_set_x'][:])\n",
    "    train_set_y =  np.array(train_data['train_set_y'][:])\n",
    "#     train_set_y = train_set_y.reshape((-1, 1))\n",
    "    \n",
    "    labels = np.array(train_data['list_classes'][:])\n",
    "    \n",
    "    return train_set_x, train_set_y, test_set_x, test_set_y, labels"
   ]
  },
  {
   "cell_type": "code",
   "execution_count": 5,
   "metadata": {},
   "outputs": [],
   "source": [
    "train_set_x, train_set_y, test_set_x, test_set_y, labels = load_data()"
   ]
  },
  {
   "cell_type": "code",
   "execution_count": 6,
   "metadata": {},
   "outputs": [
    {
     "output_type": "stream",
     "name": "stderr",
     "text": "Clipping input data to the valid range for imshow with RGB data ([0..1] for floats or [0..255] for integers).\n"
    },
    {
     "output_type": "execute_result",
     "data": {
      "text/plain": "<matplotlib.image.AxesImage at 0x7f40cab3db50>"
     },
     "metadata": {},
     "execution_count": 6
    },
    {
     "output_type": "display_data",
     "data": {
      "text/plain": "<Figure size 720x576 with 1 Axes>",
      "image/svg+xml": "<?xml version=\"1.0\" encoding=\"utf-8\" standalone=\"no\"?>\n<!DOCTYPE svg PUBLIC \"-//W3C//DTD SVG 1.1//EN\"\n  \"http://www.w3.org/Graphics/SVG/1.1/DTD/svg11.dtd\">\n<!-- Created with matplotlib (https://matplotlib.org/) -->\n<svg height=\"466.439531pt\" version=\"1.1\" viewBox=\"0 0 468.320625 466.439531\" width=\"468.320625pt\" xmlns=\"http://www.w3.org/2000/svg\" xmlns:xlink=\"http://www.w3.org/1999/xlink\">\n <defs>\n  <style type=\"text/css\">\n*{stroke-linecap:butt;stroke-linejoin:round;}\n  </style>\n </defs>\n <g id=\"figure_1\">\n  <g id=\"patch_1\">\n   <path d=\"M 0 466.439531 \nL 468.320625 466.439531 \nL 468.320625 0 \nL 0 0 \nz\n\" style=\"fill:none;\"/>\n  </g>\n  <g id=\"axes_1\">\n   <g id=\"patch_2\">\n    <path d=\"M 26.240625 442.508281 \nL 461.120625 442.508281 \nL 461.120625 7.628281 \nL 26.240625 7.628281 \nz\n\" style=\"fill:#ffffff;\"/>\n   </g>\n   <g clip-path=\"url(#p87a18c4e1f)\">\n    <image height=\"435\" id=\"imageb2c326bdd1\" transform=\"scale(1 -1)translate(0 -435)\" width=\"435\" x=\"26.240625\" xlink:href=\"data:image/png;base64,\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\" y=\"-7.508281\"/>\n   </g>\n   <g id=\"matplotlib.axis_1\">\n    <g id=\"xtick_1\">\n     <g id=\"line2d_1\">\n      <defs>\n       <path d=\"M 0 0 \nL 0 3.5 \n\" id=\"maa12450749\" style=\"stroke:#000000;stroke-width:0.8;\"/>\n      </defs>\n      <g>\n       <use style=\"stroke:#000000;stroke-width:0.8;\" x=\"29.638125\" xlink:href=\"#maa12450749\" y=\"442.508281\"/>\n      </g>\n     </g>\n     <g id=\"text_1\">\n      <!-- 0 -->\n      <defs>\n       <path d=\"M 23.578125 36.625 \nQ 23.578125 39.3125 25.453125 41.265625 \nQ 27.34375 43.21875 29.984375 43.21875 \nQ 32.71875 43.21875 34.671875 41.265625 \nQ 36.625 39.3125 36.625 36.625 \nQ 36.625 33.890625 34.6875 31.984375 \nQ 32.765625 30.078125 29.984375 30.078125 \nQ 27.25 30.078125 25.40625 31.9375 \nQ 23.578125 33.796875 23.578125 36.625 \nz\nM 30.078125 66.40625 \nQ 23.1875 66.40625 19.796875 58.984375 \nQ 16.40625 51.5625 16.40625 36.375 \nQ 16.40625 21.234375 19.796875 13.8125 \nQ 23.1875 6.390625 30.078125 6.390625 \nQ 37.015625 6.390625 40.40625 13.8125 \nQ 43.796875 21.234375 43.796875 36.375 \nQ 43.796875 51.5625 40.40625 58.984375 \nQ 37.015625 66.40625 30.078125 66.40625 \nz\nM 30.078125 74.21875 \nQ 41.75 74.21875 47.734375 64.640625 \nQ 53.71875 55.078125 53.71875 36.375 \nQ 53.71875 17.71875 47.734375 8.140625 \nQ 41.75 -1.421875 30.078125 -1.421875 \nQ 18.40625 -1.421875 12.453125 8.140625 \nQ 6.5 17.71875 6.5 36.375 \nQ 6.5 55.078125 12.453125 64.640625 \nQ 18.40625 74.21875 30.078125 74.21875 \nz\n\" id=\"DejaVuSansMono-48\"/>\n      </defs>\n      <g transform=\"translate(26.627969 457.159844)scale(0.1 -0.1)\">\n       <use xlink:href=\"#DejaVuSansMono-48\"/>\n      </g>\n     </g>\n    </g>\n    <g id=\"xtick_2\">\n     <g id=\"line2d_2\">\n      <g>\n       <use style=\"stroke:#000000;stroke-width:0.8;\" x=\"97.588125\" xlink:href=\"#maa12450749\" y=\"442.508281\"/>\n      </g>\n     </g>\n     <g id=\"text_2\">\n      <!-- 10 -->\n      <defs>\n       <path d=\"M 13.1875 8.296875 \nL 28.515625 8.296875 \nL 28.515625 64.015625 \nL 12.015625 60.296875 \nL 12.015625 69.28125 \nL 28.421875 72.90625 \nL 38.28125 72.90625 \nL 38.28125 8.296875 \nL 53.421875 8.296875 \nL 53.421875 0 \nL 13.1875 0 \nz\n\" id=\"DejaVuSansMono-49\"/>\n      </defs>\n      <g transform=\"translate(91.567813 457.159844)scale(0.1 -0.1)\">\n       <use xlink:href=\"#DejaVuSansMono-49\"/>\n       <use x=\"60.205078\" xlink:href=\"#DejaVuSansMono-48\"/>\n      </g>\n     </g>\n    </g>\n    <g id=\"xtick_3\">\n     <g id=\"line2d_3\">\n      <g>\n       <use style=\"stroke:#000000;stroke-width:0.8;\" x=\"165.538125\" xlink:href=\"#maa12450749\" y=\"442.508281\"/>\n      </g>\n     </g>\n     <g id=\"text_3\">\n      <!-- 20 -->\n      <defs>\n       <path d=\"M 18.21875 8.296875 \nL 51.703125 8.296875 \nL 51.703125 0 \nL 7.421875 0 \nL 7.421875 8.296875 \nQ 16.546875 17.921875 23.375 25.296875 \nQ 30.21875 32.671875 32.8125 35.6875 \nQ 37.703125 41.65625 39.40625 45.34375 \nQ 41.109375 49.03125 41.109375 52.875 \nQ 41.109375 58.984375 37.515625 62.453125 \nQ 33.9375 65.921875 27.6875 65.921875 \nQ 23.25 65.921875 18.359375 64.3125 \nQ 13.484375 62.703125 8.015625 59.421875 \nL 8.015625 69.390625 \nQ 13.03125 71.78125 17.890625 73 \nQ 22.75 74.21875 27.484375 74.21875 \nQ 38.1875 74.21875 44.703125 68.53125 \nQ 51.21875 62.84375 51.21875 53.609375 \nQ 51.21875 48.921875 49.046875 44.234375 \nQ 46.875 39.546875 42 33.890625 \nQ 39.265625 30.71875 34.0625 25.09375 \nQ 28.859375 19.484375 18.21875 8.296875 \nz\n\" id=\"DejaVuSansMono-50\"/>\n      </defs>\n      <g transform=\"translate(159.517813 457.159844)scale(0.1 -0.1)\">\n       <use xlink:href=\"#DejaVuSansMono-50\"/>\n       <use x=\"60.205078\" xlink:href=\"#DejaVuSansMono-48\"/>\n      </g>\n     </g>\n    </g>\n    <g id=\"xtick_4\">\n     <g id=\"line2d_4\">\n      <g>\n       <use style=\"stroke:#000000;stroke-width:0.8;\" x=\"233.488125\" xlink:href=\"#maa12450749\" y=\"442.508281\"/>\n      </g>\n     </g>\n     <g id=\"text_4\">\n      <!-- 30 -->\n      <defs>\n       <path d=\"M 37.890625 39.015625 \nQ 45.0625 37.109375 48.875 32.25 \nQ 52.6875 27.390625 52.6875 20.125 \nQ 52.6875 10.0625 45.921875 4.3125 \nQ 39.15625 -1.421875 27.203125 -1.421875 \nQ 22.171875 -1.421875 16.9375 -0.484375 \nQ 11.71875 0.4375 6.6875 2.203125 \nL 6.6875 12.015625 \nQ 11.671875 9.421875 16.5 8.15625 \nQ 21.34375 6.890625 26.125 6.890625 \nQ 34.234375 6.890625 38.578125 10.546875 \nQ 42.921875 14.203125 42.921875 21.09375 \nQ 42.921875 27.4375 38.578125 31.171875 \nQ 34.234375 34.90625 26.8125 34.90625 \nL 19.28125 34.90625 \nL 19.28125 43.015625 \nL 26.8125 43.015625 \nQ 33.59375 43.015625 37.40625 45.984375 \nQ 41.21875 48.96875 41.21875 54.296875 \nQ 41.21875 59.90625 37.671875 62.90625 \nQ 34.125 65.921875 27.59375 65.921875 \nQ 23.25 65.921875 18.609375 64.9375 \nQ 13.96875 63.96875 8.890625 62.015625 \nL 8.890625 71.09375 \nQ 14.796875 72.65625 19.40625 73.4375 \nQ 24.03125 74.21875 27.59375 74.21875 \nQ 38.234375 74.21875 44.609375 68.875 \nQ 50.984375 63.53125 50.984375 54.6875 \nQ 50.984375 48.6875 47.625 44.671875 \nQ 44.28125 40.671875 37.890625 39.015625 \nz\n\" id=\"DejaVuSansMono-51\"/>\n      </defs>\n      <g transform=\"translate(227.467813 457.159844)scale(0.1 -0.1)\">\n       <use xlink:href=\"#DejaVuSansMono-51\"/>\n       <use x=\"60.205078\" xlink:href=\"#DejaVuSansMono-48\"/>\n      </g>\n     </g>\n    </g>\n    <g id=\"xtick_5\">\n     <g id=\"line2d_5\">\n      <g>\n       <use style=\"stroke:#000000;stroke-width:0.8;\" x=\"301.438125\" xlink:href=\"#maa12450749\" y=\"442.508281\"/>\n      </g>\n     </g>\n     <g id=\"text_5\">\n      <!-- 40 -->\n      <defs>\n       <path d=\"M 35.890625 63.921875 \nL 12.890625 25.390625 \nL 35.890625 25.390625 \nz\nM 34.28125 72.90625 \nL 45.703125 72.90625 \nL 45.703125 25.390625 \nL 55.421875 25.390625 \nL 55.421875 17.390625 \nL 45.703125 17.390625 \nL 45.703125 0 \nL 35.890625 0 \nL 35.890625 17.390625 \nL 4.984375 17.390625 \nL 4.984375 26.703125 \nz\n\" id=\"DejaVuSansMono-52\"/>\n      </defs>\n      <g transform=\"translate(295.417813 457.159844)scale(0.1 -0.1)\">\n       <use xlink:href=\"#DejaVuSansMono-52\"/>\n       <use x=\"60.205078\" xlink:href=\"#DejaVuSansMono-48\"/>\n      </g>\n     </g>\n    </g>\n    <g id=\"xtick_6\">\n     <g id=\"line2d_6\">\n      <g>\n       <use style=\"stroke:#000000;stroke-width:0.8;\" x=\"369.388125\" xlink:href=\"#maa12450749\" y=\"442.508281\"/>\n      </g>\n     </g>\n     <g id=\"text_6\">\n      <!-- 50 -->\n      <defs>\n       <path d=\"M 10.109375 72.90625 \nL 47.015625 72.90625 \nL 47.015625 64.59375 \nL 19.09375 64.59375 \nL 19.09375 46.6875 \nQ 21.1875 47.46875 23.3125 47.828125 \nQ 25.4375 48.1875 27.59375 48.1875 \nQ 38.921875 48.1875 45.5625 41.5 \nQ 52.203125 34.8125 52.203125 23.390625 \nQ 52.203125 11.859375 45.234375 5.21875 \nQ 38.28125 -1.421875 26.21875 -1.421875 \nQ 20.40625 -1.421875 15.59375 -0.640625 \nQ 10.796875 0.140625 6.984375 1.703125 \nL 6.984375 11.71875 \nQ 11.46875 9.28125 16.015625 8.078125 \nQ 20.5625 6.890625 25.296875 6.890625 \nQ 33.453125 6.890625 37.859375 11.1875 \nQ 42.28125 15.484375 42.28125 23.390625 \nQ 42.28125 31.203125 37.71875 35.546875 \nQ 33.15625 39.890625 25 39.890625 \nQ 21.046875 39.890625 17.28125 38.984375 \nQ 13.53125 38.09375 10.109375 36.28125 \nz\n\" id=\"DejaVuSansMono-53\"/>\n      </defs>\n      <g transform=\"translate(363.367813 457.159844)scale(0.1 -0.1)\">\n       <use xlink:href=\"#DejaVuSansMono-53\"/>\n       <use x=\"60.205078\" xlink:href=\"#DejaVuSansMono-48\"/>\n      </g>\n     </g>\n    </g>\n    <g id=\"xtick_7\">\n     <g id=\"line2d_7\">\n      <g>\n       <use style=\"stroke:#000000;stroke-width:0.8;\" x=\"437.338125\" xlink:href=\"#maa12450749\" y=\"442.508281\"/>\n      </g>\n     </g>\n     <g id=\"text_7\">\n      <!-- 60 -->\n      <defs>\n       <path d=\"M 48.390625 71.296875 \nL 48.390625 62.203125 \nQ 45.3125 64.015625 41.84375 64.96875 \nQ 38.375 65.921875 34.625 65.921875 \nQ 25.25 65.921875 20.40625 58.859375 \nQ 15.578125 51.8125 15.578125 38.09375 \nQ 17.921875 42.96875 22.0625 45.578125 \nQ 26.21875 48.1875 31.59375 48.1875 \nQ 42.140625 48.1875 47.921875 41.71875 \nQ 53.71875 35.25 53.71875 23.390625 \nQ 53.71875 11.578125 47.75 5.078125 \nQ 41.796875 -1.421875 31 -1.421875 \nQ 18.3125 -1.421875 12.40625 7.6875 \nQ 6.5 16.796875 6.5 36.375 \nQ 6.5 54.828125 13.59375 64.515625 \nQ 20.703125 74.21875 34.1875 74.21875 \nQ 37.796875 74.21875 41.40625 73.453125 \nQ 45.015625 72.703125 48.390625 71.296875 \nz\nM 30.8125 40.484375 \nQ 24.515625 40.484375 20.890625 35.9375 \nQ 17.28125 31.390625 17.28125 23.390625 \nQ 17.28125 15.375 20.890625 10.828125 \nQ 24.515625 6.296875 30.8125 6.296875 \nQ 37.359375 6.296875 40.671875 10.609375 \nQ 44 14.9375 44 23.390625 \nQ 44 31.890625 40.671875 36.1875 \nQ 37.359375 40.484375 30.8125 40.484375 \nz\n\" id=\"DejaVuSansMono-54\"/>\n      </defs>\n      <g transform=\"translate(431.317813 457.159844)scale(0.1 -0.1)\">\n       <use xlink:href=\"#DejaVuSansMono-54\"/>\n       <use x=\"60.205078\" xlink:href=\"#DejaVuSansMono-48\"/>\n      </g>\n     </g>\n    </g>\n   </g>\n   <g id=\"matplotlib.axis_2\">\n    <g id=\"ytick_1\">\n     <g id=\"line2d_8\">\n      <defs>\n       <path d=\"M 0 0 \nL -3.5 0 \n\" id=\"m109e45f3ce\" style=\"stroke:#000000;stroke-width:0.8;\"/>\n      </defs>\n      <g>\n       <use style=\"stroke:#000000;stroke-width:0.8;\" x=\"26.240625\" xlink:href=\"#m109e45f3ce\" y=\"11.025781\"/>\n      </g>\n     </g>\n     <g id=\"text_8\">\n      <!-- 0 -->\n      <g transform=\"translate(13.220313 14.851562)scale(0.1 -0.1)\">\n       <use xlink:href=\"#DejaVuSansMono-48\"/>\n      </g>\n     </g>\n    </g>\n    <g id=\"ytick_2\">\n     <g id=\"line2d_9\">\n      <g>\n       <use style=\"stroke:#000000;stroke-width:0.8;\" x=\"26.240625\" xlink:href=\"#m109e45f3ce\" y=\"78.975781\"/>\n      </g>\n     </g>\n     <g id=\"text_9\">\n      <!-- 10 -->\n      <g transform=\"translate(7.2 82.801562)scale(0.1 -0.1)\">\n       <use xlink:href=\"#DejaVuSansMono-49\"/>\n       <use x=\"60.205078\" xlink:href=\"#DejaVuSansMono-48\"/>\n      </g>\n     </g>\n    </g>\n    <g id=\"ytick_3\">\n     <g id=\"line2d_10\">\n      <g>\n       <use style=\"stroke:#000000;stroke-width:0.8;\" x=\"26.240625\" xlink:href=\"#m109e45f3ce\" y=\"146.925781\"/>\n      </g>\n     </g>\n     <g id=\"text_10\">\n      <!-- 20 -->\n      <g transform=\"translate(7.2 150.751562)scale(0.1 -0.1)\">\n       <use xlink:href=\"#DejaVuSansMono-50\"/>\n       <use x=\"60.205078\" xlink:href=\"#DejaVuSansMono-48\"/>\n      </g>\n     </g>\n    </g>\n    <g id=\"ytick_4\">\n     <g id=\"line2d_11\">\n      <g>\n       <use style=\"stroke:#000000;stroke-width:0.8;\" x=\"26.240625\" xlink:href=\"#m109e45f3ce\" y=\"214.875781\"/>\n      </g>\n     </g>\n     <g id=\"text_11\">\n      <!-- 30 -->\n      <g transform=\"translate(7.2 218.701562)scale(0.1 -0.1)\">\n       <use xlink:href=\"#DejaVuSansMono-51\"/>\n       <use x=\"60.205078\" xlink:href=\"#DejaVuSansMono-48\"/>\n      </g>\n     </g>\n    </g>\n    <g id=\"ytick_5\">\n     <g id=\"line2d_12\">\n      <g>\n       <use style=\"stroke:#000000;stroke-width:0.8;\" x=\"26.240625\" xlink:href=\"#m109e45f3ce\" y=\"282.825781\"/>\n      </g>\n     </g>\n     <g id=\"text_12\">\n      <!-- 40 -->\n      <g transform=\"translate(7.2 286.651562)scale(0.1 -0.1)\">\n       <use xlink:href=\"#DejaVuSansMono-52\"/>\n       <use x=\"60.205078\" xlink:href=\"#DejaVuSansMono-48\"/>\n      </g>\n     </g>\n    </g>\n    <g id=\"ytick_6\">\n     <g id=\"line2d_13\">\n      <g>\n       <use style=\"stroke:#000000;stroke-width:0.8;\" x=\"26.240625\" xlink:href=\"#m109e45f3ce\" y=\"350.775781\"/>\n      </g>\n     </g>\n     <g id=\"text_13\">\n      <!-- 50 -->\n      <g transform=\"translate(7.2 354.601562)scale(0.1 -0.1)\">\n       <use xlink:href=\"#DejaVuSansMono-53\"/>\n       <use x=\"60.205078\" xlink:href=\"#DejaVuSansMono-48\"/>\n      </g>\n     </g>\n    </g>\n    <g id=\"ytick_7\">\n     <g id=\"line2d_14\">\n      <g>\n       <use style=\"stroke:#000000;stroke-width:0.8;\" x=\"26.240625\" xlink:href=\"#m109e45f3ce\" y=\"418.725781\"/>\n      </g>\n     </g>\n     <g id=\"text_14\">\n      <!-- 60 -->\n      <g transform=\"translate(7.2 422.551562)scale(0.1 -0.1)\">\n       <use xlink:href=\"#DejaVuSansMono-54\"/>\n       <use x=\"60.205078\" xlink:href=\"#DejaVuSansMono-48\"/>\n      </g>\n     </g>\n    </g>\n   </g>\n   <g id=\"patch_3\">\n    <path d=\"M 26.240625 442.508281 \nL 26.240625 7.628281 \n\" style=\"fill:none;stroke:#000000;stroke-linecap:square;stroke-linejoin:miter;stroke-width:0.8;\"/>\n   </g>\n   <g id=\"patch_4\">\n    <path d=\"M 461.120625 442.508281 \nL 461.120625 7.628281 \n\" style=\"fill:none;stroke:#000000;stroke-linecap:square;stroke-linejoin:miter;stroke-width:0.8;\"/>\n   </g>\n   <g id=\"patch_5\">\n    <path d=\"M 26.240625 442.508281 \nL 461.120625 442.508281 \n\" style=\"fill:none;stroke:#000000;stroke-linecap:square;stroke-linejoin:miter;stroke-width:0.8;\"/>\n   </g>\n   <g id=\"patch_6\">\n    <path d=\"M 26.240625 7.628281 \nL 461.120625 7.628281 \n\" style=\"fill:none;stroke:#000000;stroke-linecap:square;stroke-linejoin:miter;stroke-width:0.8;\"/>\n   </g>\n  </g>\n </g>\n <defs>\n  <clipPath id=\"p87a18c4e1f\">\n   <rect height=\"434.88\" width=\"434.88\" x=\"26.240625\" y=\"7.628281\"/>\n  </clipPath>\n </defs>\n</svg>\n",
      "image/png": "[encoded data removed]"
     },
     "metadata": {
      "needs_background": "light"
     }
    }
   ],
   "source": [
    "# Example of a picture\n",
    "index = 10\n",
    "plt.imshow(train_set_x[index]/255. + np.random.randn(64, 64, 3) * 0.02)"
   ]
  },
  {
   "cell_type": "code",
   "execution_count": 7,
   "metadata": {},
   "outputs": [],
   "source": [
    "m = train_set_x.shape[0]\n",
    "X_train, y_train = train_set_x.reshape((m, -1)) / 255., train_set_y\n",
    "m = test_set_x.shape[0]\n",
    "X_test, y_test = test_set_x.reshape((m, -1)) / 255., test_set_y"
   ]
  },
  {
   "cell_type": "code",
   "execution_count": 8,
   "metadata": {},
   "outputs": [
    {
     "output_type": "execute_result",
     "data": {
      "text/plain": "(209, 12288)"
     },
     "metadata": {},
     "execution_count": 8
    }
   ],
   "source": [
    "l = []\n",
    "for x in X_train:\n",
    "    l.append(x + np.random.randn(12288) * 0.02)\n",
    "l = np.array(l)\n",
    "l.shape"
   ]
  },
  {
   "cell_type": "code",
   "execution_count": 9,
   "metadata": {},
   "outputs": [],
   "source": [
    "X_train = np.concatenate((X_train, l), axis=0)\n",
    ""
   ]
  },
  {
   "cell_type": "code",
   "execution_count": 10,
   "metadata": {},
   "outputs": [
    {
     "output_type": "execute_result",
     "data": {
      "text/plain": "(418,)"
     },
     "metadata": {},
     "execution_count": 10
    }
   ],
   "source": [
    "y_train = np.tile(y_train, (2, ))\n",
    "y_train.shape"
   ]
  },
  {
   "cell_type": "code",
   "execution_count": 11,
   "metadata": {},
   "outputs": [
    {
     "output_type": "stream",
     "name": "stdout",
     "text": "train x:  (418, 12288)\ntrain y:  (418,)\ntest x:  (50, 12288)\ntest y:  (50,)\n"
    }
   ],
   "source": [
    "print('train x: ', X_train.shape)\n",
    "print('train y: ', y_train.shape)\n",
    "\n",
    "print('test x: ', X_test.shape)\n",
    "print('test y: ', y_test.shape)"
   ]
  },
  {
   "cell_type": "code",
   "execution_count": 12,
   "metadata": {},
   "outputs": [],
   "source": [
    "class Layer:\n",
    "    def __init__(self, n_input_dims, n_neurons, activation=None, weights=None, bias=None):\n",
    "        self.weights = weights if weights is not None else np.random.randn(\n",
    "            n_input_dims, n_neurons) * np.sqrt(1 / n_neurons)\n",
    "        self.bias = bias if bias is not None else np.random.randn(n_neurons) * 0.1\n",
    "        self.activation = activation\n",
    "        self.A = None\n",
    "        self.dA = None\n",
    "        self.dZ = None\n",
    "\n",
    "    def activate(self, X):\n",
    "        Z = np.dot(X, self.weights) + self.bias\n",
    "        # 激活函数的输出\n",
    "        self.A = self._apply_activation(Z)\n",
    "        return self.A\n",
    "    \n",
    "    def _apply_activation(self, Z):\n",
    "        # 激活函数\n",
    "        if self.activation is None:\n",
    "            return Z\n",
    "        elif self.activation == 'relu':\n",
    "            return np.maximum(0, Z)\n",
    "        elif self.activation == 'sigmoid':\n",
    "            return 1 / (1 + np.exp(-Z))\n",
    "        elif self.activation == 'tanh':\n",
    "            return np.tanh(Z)\n",
    "        else:\n",
    "            return Z\n",
    "    \n",
    "    def derivative(self, A):\n",
    "        # 激活函数的导数\n",
    "        if self.activation is None:\n",
    "            return np.ones_like(A)\n",
    "        elif self.activation == 'relu':\n",
    "            # return np.where(A <= 0, 0., 1.)\n",
    "            d = np.array(A, copy=True)\n",
    "            d[A <= 0] = 0.\n",
    "            d[A > 0] = 1.\n",
    "            return d \n",
    "        elif self.activation == 'sigmoid':\n",
    "            return A  * (1 - A)\n",
    "        elif self.activation == 'tanh':\n",
    "            return 1 - A ** 2\n",
    "        else:\n",
    "            return A\n",
    "    \n",
    "    def __repr__(self):\n",
    "        return f\"weigths: {self.weights.shape}\\n bias: {self.bias.shape}\""
   ]
  },
  {
   "cell_type": "code",
   "execution_count": 35,
   "metadata": {},
   "outputs": [],
   "source": [
    "NEAR_0 = 1e-10\n",
    "class DeepNeuralNetwork:\n",
    "    def __init__(self, lambda_=1e-3, lr=1e-3):\n",
    "        self.layers = []\n",
    "        self.lr = lr\n",
    "        self.lambda_ = lambda_\n",
    "    \n",
    "    def add_layer(self, layer):\n",
    "        self.layers.append(layer)\n",
    "    \n",
    "    def feed_forward(self, X):\n",
    "        for layer in self.layers:\n",
    "            X = layer.activate(X)\n",
    "        return X\n",
    "\n",
    "    def loss(self, y_true, y_preds):\n",
    "        # 交叉熵误差\n",
    "        assert(y_true.shape == y_preds.shape)\n",
    "        term = 0\n",
    "        for layer in self.layers:\n",
    "            term += np.sum(layer.weights ** 2)\n",
    "        loss_ = - y_true* np.log(y_preds + NEAR_0) - (1 - y_true)*np.log(1 - y_preds + NEAR_0)  \n",
    "        loss_ =  np.mean(loss_, axis=0) + self.lambda_ * term\n",
    "\n",
    "        return np.squeeze(loss_)\n",
    "    \n",
    "    def backpropagation(self, X, y):\n",
    "        # 反向传播算法 计算每一层的delta \n",
    "        # 前向计算 得到输出值\n",
    "        m = X.shape[0]  # batch size\n",
    "        out = self.feed_forward(X)  # (m, 1)\n",
    "        # print(out.shape)\n",
    "        # loss_ = self.loss(y, out)\n",
    "\n",
    "        for i in reversed(range(len(self.layers))):  # 从最后一层开始\n",
    "            layer = self.layers[i]\n",
    "            if layer == self.layers[-1]:  # 输出层\n",
    "                # 使用 交叉熵 误差\n",
    "                assert(y.shape == out.shape)\n",
    "                layer.dA = -y/(out + NEAR_0) + (1-y) / (1-out + NEAR_0)\n",
    "                # layer.dA = -y / out + (1-y)/(1-out)  # dL/dA^K  # (m, 1)\n",
    "                layer.dZ = layer.dA * layer.derivative(out) # dL/dZ^K  (m, 1) (m, 1)\n",
    "            else:  # 隐藏层\n",
    "                next_layer = self.layers[i + 1]\n",
    "                layer.dA = next_layer.dZ @ next_layer.weights.T  # dL/dA^J (m, 1) (1, k)\n",
    "                # dL/dZ^J (m, k) (m,k)\n",
    "                layer.dZ = layer.dA * layer.derivative(layer.A)\n",
    "        \n",
    "        # 更新参数\n",
    "        for i in range(len(self.layers)):\n",
    "            layer = self.layers[i]\n",
    "            # 上一层的输出 本层的输入\n",
    "            o_i = X if i == 0 else self.layers[i-1].A\n",
    "            # weights (I, J)\n",
    "            # o_i (m, I)\n",
    "            # dZ (m, J)\n",
    "            layer.weights -= self.lr *  (o_i.T @ layer.dZ + self.lambda_ * layer.weights) * 1 / m # (I, J)\n",
    "            layer.bias -=  self.lr * np.sum(layer.dZ) * 1 / m # (J, )\n",
    "\n",
    "    def train(self, X, y, X_test, y_test, max_epochs=300, batch_size=32):\n",
    "        y = y.reshape(-1, 1)\n",
    "        cross_entropy = []\n",
    "        accuracy = []\n",
    "        split_size = X.shape[0] // batch_size\n",
    "        \n",
    "        for epoch in range(max_epochs):\n",
    "            for x, y_true in zip(np.array_split(X, split_size), np.array_split(y, split_size)):\n",
    "                self.backpropagation(x, y_true)\n",
    "            # self.backpropagation(X, y, learning_rate)\n",
    "            if epoch % 100 == 0:\n",
    "                # mse = np.mean(np.square(self.feed_forward(X) - y_onehot))\n",
    "                loss = self.loss(y, self.feed_forward(X))\n",
    "                cross_entropy.append(loss)\n",
    "                \n",
    "                predict = self.predict(X_train)\n",
    "                train_acc = np.sum(y_train.ravel()==predict) / len(predict)\n",
    "                \n",
    "                predict = self.predict(X_test)\n",
    "                acc = np.sum(y_test.ravel()==predict) / len(predict)\n",
    "                accuracy.append(acc)\n",
    "                print(f'Epoch: {epoch}, cross_entropy: {loss}, train acc: {train_acc}, test acc: {acc}')\n",
    "        return cross_entropy, accuracy\n",
    "    \n",
    "    def predict(self, X):\n",
    "        y_pred = self.feed_forward(X)\n",
    "        y_pred = np.where(y_pred >=0.5, 1, 0)\n",
    "        # out = np.argmax(y_pred, axis=1)\n",
    "        return np.squeeze(y_pred)"
   ]
  },
  {
   "cell_type": "code",
   "execution_count": 36,
   "metadata": {},
   "outputs": [
    {
     "output_type": "stream",
     "name": "stdout",
     "text": "Epoch: 0, cross_entropy: 1.9162196461865368, train acc: 0.6555023923444976, test acc: 0.34\nEpoch: 100, cross_entropy: 1.8020507173974298, train acc: 0.6555023923444976, test acc: 0.34\nEpoch: 200, cross_entropy: 1.6930172997460378, train acc: 0.6555023923444976, test acc: 0.34\nEpoch: 300, cross_entropy: 1.6643359814875276, train acc: 0.7703349282296651, test acc: 0.7\nEpoch: 400, cross_entropy: 1.5536387973594803, train acc: 0.8588516746411483, test acc: 0.68\nEpoch: 500, cross_entropy: 1.5151036017464001, train acc: 0.8803827751196173, test acc: 0.52\nEpoch: 600, cross_entropy: 1.477506907933834, train acc: 0.916267942583732, test acc: 0.66\nEpoch: 700, cross_entropy: 1.4495929959553115, train acc: 0.9234449760765551, test acc: 0.58\nEpoch: 800, cross_entropy: 1.4443403153224046, train acc: 0.9234449760765551, test acc: 0.56\nEpoch: 900, cross_entropy: 1.441817706270704, train acc: 0.9234449760765551, test acc: 0.54\nEpoch: 1000, cross_entropy: 1.4330812589643425, train acc: 0.9282296650717703, test acc: 0.56\nEpoch: 1100, cross_entropy: 1.4320524549481024, train acc: 0.9282296650717703, test acc: 0.56\nEpoch: 1200, cross_entropy: 1.4314218766153692, train acc: 0.9282296650717703, test acc: 0.56\nEpoch: 1300, cross_entropy: 1.4311029260781845, train acc: 0.9282296650717703, test acc: 0.54\nEpoch: 1400, cross_entropy: 1.4309172920288395, train acc: 0.9282296650717703, test acc: 0.54\n"
    }
   ],
   "source": [
    "model = DeepNeuralNetwork(lr=0.008, lambda_=1e-4)\n",
    "model.add_layer(Layer(X_train.shape[1], 64, 'relu'))  # h1  \n",
    "model.add_layer(Layer(64, 16, 'relu'))  # output\n",
    "model.add_layer(Layer(16, 4, 'relu'))  # output\n",
    "model.add_layer(Layer(4, 1, 'sigmoid'))  # output\n",
    "cross_entropy, accuracy = model.train(X_train, y_train, X_test, y_test, max_epochs=1500, batch_size=64)"
   ]
  },
  {
   "cell_type": "code",
   "execution_count": 41,
   "metadata": {},
   "outputs": [
    {
     "output_type": "execute_result",
     "data": {
      "text/plain": "array([[0.94399, 0.13365, 0.76279],\n       [0.63326, 0.17515, 0.23543],\n       [0.63215, 0.42214, 0.28185],\n       [0.15894, 0.46716, 0.99906]])"
     },
     "metadata": {},
     "execution_count": 41
    }
   ],
   "source": [
    "old = np.random.rand(4, 3)\n",
    "old"
   ]
  },
  {
   "cell_type": "code",
   "execution_count": 42,
   "metadata": {},
   "outputs": [
    {
     "output_type": "execute_result",
     "data": {
      "text/plain": "array([[1, 0, 1],\n       [1, 0, 0],\n       [1, 0, 0],\n       [0, 0, 1]])"
     },
     "metadata": {},
     "execution_count": 42
    }
   ],
   "source": [
    "new = np.where(old >= 0.5, 1, 0)\n",
    "new"
   ]
  },
  {
   "cell_type": "code",
   "execution_count": null,
   "metadata": {},
   "outputs": [],
   "source": [
    "model.layers[-2].bias"
   ]
  },
  {
   "cell_type": "code",
   "execution_count": null,
   "metadata": {},
   "outputs": [],
   "source": [
    "model.layers[-2].weights"
   ]
  },
  {
   "cell_type": "code",
   "execution_count": null,
   "metadata": {},
   "outputs": [],
   "source": [
    "y_pred = model.predict(X_train)\n",
    "np.sum(y_pred == y_train) / len(y_train)"
   ]
  },
  {
   "cell_type": "code",
   "execution_count": null,
   "metadata": {},
   "outputs": [],
   "source": [
    "plt.plot(cross_entropy)"
   ]
  },
  {
   "cell_type": "code",
   "execution_count": null,
   "metadata": {},
   "outputs": [],
   "source": [
    "plt.plot(accuracy)"
   ]
  },
  {
   "cell_type": "code",
   "execution_count": null,
   "metadata": {},
   "outputs": [],
   "source": [
    "y_pred = model.predict(X_test)\n",
    "np.sum(y_pred == y_test) / len(y_test)"
   ]
  },
  {
   "cell_type": "code",
   "execution_count": null,
   "metadata": {},
   "outputs": [],
   "source": [
    "def plot_misclassification(test_set_x, y_pred, y_test):\n",
    "    mis = test_set_x[y_test != y_pred]\n",
    "    for image in mis:\n",
    "        plt.figure(figsize=(5, 4))\n",
    "        plt.imshow(image / 255.)"
   ]
  },
  {
   "cell_type": "markdown",
   "metadata": {},
   "source": [
    "### 使用Tensorflow "
   ]
  },
  {
   "cell_type": "code",
   "execution_count": null,
   "metadata": {},
   "outputs": [],
   "source": [
    "import tensorflow as tf \n",
    "\n",
    "gpus = tf.config.experimental.list_physical_devices('GPU')\n",
    "try:\n",
    "    for gpu in gpus:\n",
    "        tf.config.experimental.set_memory_growth(gpu, True)\n",
    "except RuntimeError as e:\n",
    "    print(e)"
   ]
  },
  {
   "cell_type": "code",
   "execution_count": null,
   "metadata": {},
   "outputs": [],
   "source": [
    "from tensorflow.keras import layers, Sequential, losses, regularizers"
   ]
  },
  {
   "cell_type": "code",
   "execution_count": null,
   "metadata": {},
   "outputs": [],
   "source": [
    "def process(X, y):\n",
    "    X = tf.cast(X, dtype=tf.float32) / 255.\n",
    "    X = tf.reshape(X, (-1, 64*64*3))\n",
    "    y = tf.cast(y, dtype=tf.int32)\n",
    "    return X, y"
   ]
  },
  {
   "cell_type": "code",
   "execution_count": null,
   "metadata": {},
   "outputs": [],
   "source": [
    "train_db = tf.data.Dataset.from_tensor_slices((train_set_x, train_set_y))\n",
    "test_db = tf.data.Dataset.from_tensor_slices((test_set_x, test_set_y))\n",
    "train_db = train_db.shuffle(1000).batch(64).map(process)\n",
    "test_db = test_db.shuffle(1000).batch(64).map(process)"
   ]
  },
  {
   "cell_type": "code",
   "execution_count": null,
   "metadata": {},
   "outputs": [],
   "source": [
    "x, y = next(iter(train_db))"
   ]
  },
  {
   "cell_type": "code",
   "execution_count": null,
   "metadata": {},
   "outputs": [],
   "source": [
    "x.shape, y.shape"
   ]
  },
  {
   "cell_type": "code",
   "execution_count": null,
   "metadata": {},
   "outputs": [],
   "source": [
    "lambda_ = 1e-2"
   ]
  },
  {
   "cell_type": "code",
   "execution_count": null,
   "metadata": {},
   "outputs": [],
   "source": [
    "network = Sequential([\n",
    "    layers.Dense(64, activation='relu', kernel_regularizer=regularizers.l2(lambda_)),\n",
    "#     layers.Dense(16, activation='relu', kernel_regularizer=regularizers.l2(lambda_)), \n",
    "#     layers.Dense(4, activation='relu', kernel_regularizer=regularizers.l2(lambda_)), \n",
    "    layers.Dense(1, activation='sigmoid'),\n",
    "])\n",
    "network.compile(loss='binary_crossentropy', optimizer='adam', metrics=['accuracy'])"
   ]
  },
  {
   "cell_type": "code",
   "execution_count": null,
   "metadata": {},
   "outputs": [],
   "source": [
    "history = network.fit(train_db, epochs=150, validation_data=test_db, validation_freq=10)"
   ]
  },
  {
   "cell_type": "code",
   "execution_count": null,
   "metadata": {},
   "outputs": [],
   "source": [
    "y_pred = network.predict_classes(X_test)\n",
    "np.sum(np.squeeze(y_pred) == np.squeeze(y_test)) / len(y_test)"
   ]
  },
  {
   "cell_type": "code",
   "execution_count": null,
   "metadata": {},
   "outputs": [],
   "source": [
    "plot_misclassification(test_set_x, y_pred.ravel(), y_test.ravel())"
   ]
  },
  {
   "cell_type": "code",
   "execution_count": null,
   "metadata": {},
   "outputs": [],
   "source": []
  }
 ],
 "metadata": {
  "file_extension": ".py",
  "kernelspec": {
   "display_name": "tf",
   "language": "python",
   "name": "tf"
  },
  "language_info": {
   "codemirror_mode": {
    "name": "ipython",
    "version": 3
   },
   "file_extension": ".py",
   "mimetype": "text/x-python",
   "name": "python",
   "nbconvert_exporter": "python",
   "pygments_lexer": "ipython3",
   "version": "3.7.6-final"
  },
  "mimetype": "text/x-python",
  "name": "python",
  "npconvert_exporter": "python",
  "pygments_lexer": "ipython3",
  "version": 3
 },
 "nbformat": 4,
 "nbformat_minor": 2
}