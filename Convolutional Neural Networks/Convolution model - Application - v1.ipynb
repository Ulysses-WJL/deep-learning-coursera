{
 "cells": [
  {
   "cell_type": "markdown",
   "metadata": {},
   "source": [
    "# Convolutional Neural Networks: Application\n",
    "\n",
    "Welcome to Course 4's second assignment! In this notebook, you will:\n",
    "\n",
    "- Implement helper functions that you will use when implementing a TensorFlow model\n",
    "- Implement a fully functioning ConvNet using TensorFlow \n",
    "\n",
    "**After this assignment you will be able to:**\n",
    "\n",
    "- Build and train a ConvNet in TensorFlow for a classification problem \n",
    "\n",
    "We assume here that you are already familiar with TensorFlow. If you are not, please refer the *TensorFlow Tutorial* of the third week of Course 2 (\"*Improving deep neural networks*\")."
   ]
  },
  {
   "cell_type": "markdown",
   "metadata": {},
   "source": [
    "## 1.0 - TensorFlow model\n",
    "\n",
    "In the previous assignment, you built helper functions using numpy to understand the mechanics behind convolutional neural networks. Most practical applications of deep learning today are built using programming frameworks, which have many built-in functions you can simply call. \n",
    "\n",
    "As usual, we will start by loading in the packages. "
   ]
  },
  {
   "cell_type": "code",
   "execution_count": 3,
   "metadata": {
    "collapsed": true
   },
   "outputs": [],
   "source": [
    "import math\n",
    "import numpy as np\n",
    "import h5py\n",
    "import matplotlib.pyplot as plt\n",
    "import scipy\n",
    "from PIL import Image\n",
    "from scipy import ndimage\n",
    "import tensorflow as tf\n",
    "from tensorflow.python.framework import ops\n",
    "from homework1.cnn_utils import *\n",
    "\n",
    "%matplotlib inline\n",
    "np.random.seed(1)"
   ]
  },
  {
   "cell_type": "code",
   "execution_count": 4,
   "metadata": {},
   "outputs": [],
   "source": [
    "gpus = tf.config.experimental.list_physical_devices('GPU')\n",
    "try:\n",
    "    for gpu in gpus:\n",
    "        tf.config.experimental.set_memory_growth(gpu, True)\n",
    "except RuntimeError as e:\n",
    "    print(e)"
   ]
  },
  {
   "cell_type": "markdown",
   "metadata": {},
   "source": [
    "Run the next cell to load the \"SIGNS\" dataset you are going to use."
   ]
  },
  {
   "cell_type": "code",
   "execution_count": 5,
   "metadata": {},
   "outputs": [],
   "source": [
    "def load_dataset():\n",
    "    train_dataset = h5py.File('homework1/datasets/train_signs.h5', \"r\")\n",
    "    train_set_x_orig = np.array(train_dataset[\"train_set_x\"][:]) # your train set features\n",
    "    train_set_y_orig = np.array(train_dataset[\"train_set_y\"][:]) # your train set labels\n",
    "    test_dataset = h5py.File('homework1/datasets/test_signs.h5', \"r\")\n",
    "    test_set_x_orig = np.array(test_dataset[\"test_set_x\"][:]) # your test set features\n",
    "    test_set_y_orig = np.array(test_dataset[\"test_set_y\"][:]) # your test set labels\n",
    "    classes = np.array(test_dataset[\"list_classes\"][:]) # the list of classes\n",
    "    return train_set_x_orig, train_set_y_orig, test_set_x_orig, test_set_y_orig, classes"
   ]
  },
  {
   "cell_type": "code",
   "execution_count": 6,
   "metadata": {
    "collapsed": true
   },
   "outputs": [],
   "source": [
    "# Loading the data (signs)\n",
    "X_train_orig, Y_train_orig, X_test_orig, Y_test_orig, classes = load_dataset()"
   ]
  },
  {
   "cell_type": "code",
   "execution_count": 8,
   "metadata": {},
   "outputs": [
    {
     "output_type": "stream",
     "name": "stdout",
     "text": "Train :  (1080, 64, 64, 3) (1080,)\nTest :  (120, 64, 64, 3) (120,)\n"
    }
   ],
   "source": [
    "print('Train : ', X_train_orig.shape, Y_train_orig.shape)\n",
    "print('Test : ', X_test_orig.shape, Y_tes_orig.shape)"
   ]
  },
  {
   "cell_type": "markdown",
   "metadata": {},
   "source": [
    "As a reminder, the SIGNS dataset is a collection of 6 signs representing numbers from 0 to 5.\n",
    "\n",
    "<img src=\"images/SIGNS.png\" style=\"width:800px;height:300px;\">\n",
    "\n",
    "The next cell will show you an example of a labelled image in the dataset. Feel free to change the value of `index` below and re-run to see different examples. "
   ]
  },
  {
   "cell_type": "code",
   "execution_count": 9,
   "metadata": {},
   "outputs": [
    {
     "output_type": "stream",
     "name": "stdout",
     "text": "y = 2\n"
    },
    {
     "output_type": "display_data",
     "data": {
      "text/plain": "<Figure size 432x288 with 1 Axes>",
      "image/svg+xml": "<?xml version=\"1.0\" encoding=\"utf-8\" standalone=\"no\"?>\n<!DOCTYPE svg PUBLIC \"-//W3C//DTD SVG 1.1//EN\"\n  \"http://www.w3.org/Graphics/SVG/1.1/DTD/svg11.dtd\">\n<!-- Created with matplotlib (https://matplotlib.org/) -->\n<svg height=\"250.618594pt\" version=\"1.1\" viewBox=\"0 0 251.565 250.618594\" width=\"251.565pt\" xmlns=\"http://www.w3.org/2000/svg\" xmlns:xlink=\"http://www.w3.org/1999/xlink\">\n <defs>\n  <style type=\"text/css\">\n*{stroke-linecap:butt;stroke-linejoin:round;}\n  </style>\n </defs>\n <g id=\"figure_1\">\n  <g id=\"patch_1\">\n   <path d=\"M 0 250.618594 \nL 251.565 250.618594 \nL 251.565 0 \nL 0 0 \nz\n\" style=\"fill:none;\"/>\n  </g>\n  <g id=\"axes_1\">\n   <g id=\"patch_2\">\n    <path d=\"M 26.925 226.740469 \nL 244.365 226.740469 \nL 244.365 9.300469 \nL 26.925 9.300469 \nz\n\" style=\"fill:#ffffff;\"/>\n   </g>\n   <g clip-path=\"url(#pc1b2e4927c)\">\n    <image height=\"218\" id=\"imaged2cf45264a\" transform=\"scale(1 -1)translate(0 -218)\" width=\"218\" x=\"26.925\" xlink:href=\"data:image/png;base64,\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\" y=\"-8.740469\"/>\n   </g>\n   <g id=\"matplotlib.axis_1\">\n    <g id=\"xtick_1\">\n     <g id=\"line2d_1\">\n      <defs>\n       <path d=\"M 0 0 \nL 0 3.5 \n\" id=\"md4081da3c1\" style=\"stroke:#000000;stroke-width:0.8;\"/>\n      </defs>\n      <g>\n       <use style=\"stroke:#000000;stroke-width:0.8;\" x=\"28.62375\" xlink:href=\"#md4081da3c1\" y=\"226.740469\"/>\n      </g>\n     </g>\n     <g id=\"text_1\">\n      <!-- 0 -->\n      <defs>\n       <path d=\"M 31.78125 66.40625 \nQ 24.171875 66.40625 20.328125 58.90625 \nQ 16.5 51.421875 16.5 36.375 \nQ 16.5 21.390625 20.328125 13.890625 \nQ 24.171875 6.390625 31.78125 6.390625 \nQ 39.453125 6.390625 43.28125 13.890625 \nQ 47.125 21.390625 47.125 36.375 \nQ 47.125 51.421875 43.28125 58.90625 \nQ 39.453125 66.40625 31.78125 66.40625 \nz\nM 31.78125 74.21875 \nQ 44.046875 74.21875 50.515625 64.515625 \nQ 56.984375 54.828125 56.984375 36.375 \nQ 56.984375 17.96875 50.515625 8.265625 \nQ 44.046875 -1.421875 31.78125 -1.421875 \nQ 19.53125 -1.421875 13.0625 8.265625 \nQ 6.59375 17.96875 6.59375 36.375 \nQ 6.59375 54.828125 13.0625 64.515625 \nQ 19.53125 74.21875 31.78125 74.21875 \nz\n\" id=\"DejaVuSans-48\"/>\n      </defs>\n      <g transform=\"translate(25.4425 241.338906)scale(0.1 -0.1)\">\n       <use xlink:href=\"#DejaVuSans-48\"/>\n      </g>\n     </g>\n    </g>\n    <g id=\"xtick_2\">\n     <g id=\"line2d_2\">\n      <g>\n       <use style=\"stroke:#000000;stroke-width:0.8;\" x=\"62.59875\" xlink:href=\"#md4081da3c1\" y=\"226.740469\"/>\n      </g>\n     </g>\n     <g id=\"text_2\">\n      <!-- 10 -->\n      <defs>\n       <path d=\"M 12.40625 8.296875 \nL 28.515625 8.296875 \nL 28.515625 63.921875 \nL 10.984375 60.40625 \nL 10.984375 69.390625 \nL 28.421875 72.90625 \nL 38.28125 72.90625 \nL 38.28125 8.296875 \nL 54.390625 8.296875 \nL 54.390625 0 \nL 12.40625 0 \nz\n\" id=\"DejaVuSans-49\"/>\n      </defs>\n      <g transform=\"translate(56.23625 241.338906)scale(0.1 -0.1)\">\n       <use xlink:href=\"#DejaVuSans-49\"/>\n       <use x=\"63.623047\" xlink:href=\"#DejaVuSans-48\"/>\n      </g>\n     </g>\n    </g>\n    <g id=\"xtick_3\">\n     <g id=\"line2d_3\">\n      <g>\n       <use style=\"stroke:#000000;stroke-width:0.8;\" x=\"96.57375\" xlink:href=\"#md4081da3c1\" y=\"226.740469\"/>\n      </g>\n     </g>\n     <g id=\"text_3\">\n      <!-- 20 -->\n      <defs>\n       <path d=\"M 19.1875 8.296875 \nL 53.609375 8.296875 \nL 53.609375 0 \nL 7.328125 0 \nL 7.328125 8.296875 \nQ 12.9375 14.109375 22.625 23.890625 \nQ 32.328125 33.6875 34.8125 36.53125 \nQ 39.546875 41.84375 41.421875 45.53125 \nQ 43.3125 49.21875 43.3125 52.78125 \nQ 43.3125 58.59375 39.234375 62.25 \nQ 35.15625 65.921875 28.609375 65.921875 \nQ 23.96875 65.921875 18.8125 64.3125 \nQ 13.671875 62.703125 7.8125 59.421875 \nL 7.8125 69.390625 \nQ 13.765625 71.78125 18.9375 73 \nQ 24.125 74.21875 28.421875 74.21875 \nQ 39.75 74.21875 46.484375 68.546875 \nQ 53.21875 62.890625 53.21875 53.421875 \nQ 53.21875 48.921875 51.53125 44.890625 \nQ 49.859375 40.875 45.40625 35.40625 \nQ 44.1875 33.984375 37.640625 27.21875 \nQ 31.109375 20.453125 19.1875 8.296875 \nz\n\" id=\"DejaVuSans-50\"/>\n      </defs>\n      <g transform=\"translate(90.21125 241.338906)scale(0.1 -0.1)\">\n       <use xlink:href=\"#DejaVuSans-50\"/>\n       <use x=\"63.623047\" xlink:href=\"#DejaVuSans-48\"/>\n      </g>\n     </g>\n    </g>\n    <g id=\"xtick_4\">\n     <g id=\"line2d_4\">\n      <g>\n       <use style=\"stroke:#000000;stroke-width:0.8;\" x=\"130.54875\" xlink:href=\"#md4081da3c1\" y=\"226.740469\"/>\n      </g>\n     </g>\n     <g id=\"text_4\">\n      <!-- 30 -->\n      <defs>\n       <path d=\"M 40.578125 39.3125 \nQ 47.65625 37.796875 51.625 33 \nQ 55.609375 28.21875 55.609375 21.1875 \nQ 55.609375 10.40625 48.1875 4.484375 \nQ 40.765625 -1.421875 27.09375 -1.421875 \nQ 22.515625 -1.421875 17.65625 -0.515625 \nQ 12.796875 0.390625 7.625 2.203125 \nL 7.625 11.71875 \nQ 11.71875 9.328125 16.59375 8.109375 \nQ 21.484375 6.890625 26.8125 6.890625 \nQ 36.078125 6.890625 40.9375 10.546875 \nQ 45.796875 14.203125 45.796875 21.1875 \nQ 45.796875 27.640625 41.28125 31.265625 \nQ 36.765625 34.90625 28.71875 34.90625 \nL 20.21875 34.90625 \nL 20.21875 43.015625 \nL 29.109375 43.015625 \nQ 36.375 43.015625 40.234375 45.921875 \nQ 44.09375 48.828125 44.09375 54.296875 \nQ 44.09375 59.90625 40.109375 62.90625 \nQ 36.140625 65.921875 28.71875 65.921875 \nQ 24.65625 65.921875 20.015625 65.03125 \nQ 15.375 64.15625 9.8125 62.3125 \nL 9.8125 71.09375 \nQ 15.4375 72.65625 20.34375 73.4375 \nQ 25.25 74.21875 29.59375 74.21875 \nQ 40.828125 74.21875 47.359375 69.109375 \nQ 53.90625 64.015625 53.90625 55.328125 \nQ 53.90625 49.265625 50.4375 45.09375 \nQ 46.96875 40.921875 40.578125 39.3125 \nz\n\" id=\"DejaVuSans-51\"/>\n      </defs>\n      <g transform=\"translate(124.18625 241.338906)scale(0.1 -0.1)\">\n       <use xlink:href=\"#DejaVuSans-51\"/>\n       <use x=\"63.623047\" xlink:href=\"#DejaVuSans-48\"/>\n      </g>\n     </g>\n    </g>\n    <g id=\"xtick_5\">\n     <g id=\"line2d_5\">\n      <g>\n       <use style=\"stroke:#000000;stroke-width:0.8;\" x=\"164.52375\" xlink:href=\"#md4081da3c1\" y=\"226.740469\"/>\n      </g>\n     </g>\n     <g id=\"text_5\">\n      <!-- 40 -->\n      <defs>\n       <path d=\"M 37.796875 64.3125 \nL 12.890625 25.390625 \nL 37.796875 25.390625 \nz\nM 35.203125 72.90625 \nL 47.609375 72.90625 \nL 47.609375 25.390625 \nL 58.015625 25.390625 \nL 58.015625 17.1875 \nL 47.609375 17.1875 \nL 47.609375 0 \nL 37.796875 0 \nL 37.796875 17.1875 \nL 4.890625 17.1875 \nL 4.890625 26.703125 \nz\n\" id=\"DejaVuSans-52\"/>\n      </defs>\n      <g transform=\"translate(158.16125 241.338906)scale(0.1 -0.1)\">\n       <use xlink:href=\"#DejaVuSans-52\"/>\n       <use x=\"63.623047\" xlink:href=\"#DejaVuSans-48\"/>\n      </g>\n     </g>\n    </g>\n    <g id=\"xtick_6\">\n     <g id=\"line2d_6\">\n      <g>\n       <use style=\"stroke:#000000;stroke-width:0.8;\" x=\"198.49875\" xlink:href=\"#md4081da3c1\" y=\"226.740469\"/>\n      </g>\n     </g>\n     <g id=\"text_6\">\n      <!-- 50 -->\n      <defs>\n       <path d=\"M 10.796875 72.90625 \nL 49.515625 72.90625 \nL 49.515625 64.59375 \nL 19.828125 64.59375 \nL 19.828125 46.734375 \nQ 21.96875 47.46875 24.109375 47.828125 \nQ 26.265625 48.1875 28.421875 48.1875 \nQ 40.625 48.1875 47.75 41.5 \nQ 54.890625 34.8125 54.890625 23.390625 \nQ 54.890625 11.625 47.5625 5.09375 \nQ 40.234375 -1.421875 26.90625 -1.421875 \nQ 22.3125 -1.421875 17.546875 -0.640625 \nQ 12.796875 0.140625 7.71875 1.703125 \nL 7.71875 11.625 \nQ 12.109375 9.234375 16.796875 8.0625 \nQ 21.484375 6.890625 26.703125 6.890625 \nQ 35.15625 6.890625 40.078125 11.328125 \nQ 45.015625 15.765625 45.015625 23.390625 \nQ 45.015625 31 40.078125 35.4375 \nQ 35.15625 39.890625 26.703125 39.890625 \nQ 22.75 39.890625 18.8125 39.015625 \nQ 14.890625 38.140625 10.796875 36.28125 \nz\n\" id=\"DejaVuSans-53\"/>\n      </defs>\n      <g transform=\"translate(192.13625 241.338906)scale(0.1 -0.1)\">\n       <use xlink:href=\"#DejaVuSans-53\"/>\n       <use x=\"63.623047\" xlink:href=\"#DejaVuSans-48\"/>\n      </g>\n     </g>\n    </g>\n    <g id=\"xtick_7\">\n     <g id=\"line2d_7\">\n      <g>\n       <use style=\"stroke:#000000;stroke-width:0.8;\" x=\"232.47375\" xlink:href=\"#md4081da3c1\" y=\"226.740469\"/>\n      </g>\n     </g>\n     <g id=\"text_7\">\n      <!-- 60 -->\n      <defs>\n       <path d=\"M 33.015625 40.375 \nQ 26.375 40.375 22.484375 35.828125 \nQ 18.609375 31.296875 18.609375 23.390625 \nQ 18.609375 15.53125 22.484375 10.953125 \nQ 26.375 6.390625 33.015625 6.390625 \nQ 39.65625 6.390625 43.53125 10.953125 \nQ 47.40625 15.53125 47.40625 23.390625 \nQ 47.40625 31.296875 43.53125 35.828125 \nQ 39.65625 40.375 33.015625 40.375 \nz\nM 52.59375 71.296875 \nL 52.59375 62.3125 \nQ 48.875 64.0625 45.09375 64.984375 \nQ 41.3125 65.921875 37.59375 65.921875 \nQ 27.828125 65.921875 22.671875 59.328125 \nQ 17.53125 52.734375 16.796875 39.40625 \nQ 19.671875 43.65625 24.015625 45.921875 \nQ 28.375 48.1875 33.59375 48.1875 \nQ 44.578125 48.1875 50.953125 41.515625 \nQ 57.328125 34.859375 57.328125 23.390625 \nQ 57.328125 12.15625 50.6875 5.359375 \nQ 44.046875 -1.421875 33.015625 -1.421875 \nQ 20.359375 -1.421875 13.671875 8.265625 \nQ 6.984375 17.96875 6.984375 36.375 \nQ 6.984375 53.65625 15.1875 63.9375 \nQ 23.390625 74.21875 37.203125 74.21875 \nQ 40.921875 74.21875 44.703125 73.484375 \nQ 48.484375 72.75 52.59375 71.296875 \nz\n\" id=\"DejaVuSans-54\"/>\n      </defs>\n      <g transform=\"translate(226.11125 241.338906)scale(0.1 -0.1)\">\n       <use xlink:href=\"#DejaVuSans-54\"/>\n       <use x=\"63.623047\" xlink:href=\"#DejaVuSans-48\"/>\n      </g>\n     </g>\n    </g>\n   </g>\n   <g id=\"matplotlib.axis_2\">\n    <g id=\"ytick_1\">\n     <g id=\"line2d_8\">\n      <defs>\n       <path d=\"M 0 0 \nL -3.5 0 \n\" id=\"md4684f3212\" style=\"stroke:#000000;stroke-width:0.8;\"/>\n      </defs>\n      <g>\n       <use style=\"stroke:#000000;stroke-width:0.8;\" x=\"26.925\" xlink:href=\"#md4684f3212\" y=\"10.999219\"/>\n      </g>\n     </g>\n     <g id=\"text_8\">\n      <!-- 0 -->\n      <g transform=\"translate(13.5625 14.798437)scale(0.1 -0.1)\">\n       <use xlink:href=\"#DejaVuSans-48\"/>\n      </g>\n     </g>\n    </g>\n    <g id=\"ytick_2\">\n     <g id=\"line2d_9\">\n      <g>\n       <use style=\"stroke:#000000;stroke-width:0.8;\" x=\"26.925\" xlink:href=\"#md4684f3212\" y=\"44.974219\"/>\n      </g>\n     </g>\n     <g id=\"text_9\">\n      <!-- 10 -->\n      <g transform=\"translate(7.2 48.773437)scale(0.1 -0.1)\">\n       <use xlink:href=\"#DejaVuSans-49\"/>\n       <use x=\"63.623047\" xlink:href=\"#DejaVuSans-48\"/>\n      </g>\n     </g>\n    </g>\n    <g id=\"ytick_3\">\n     <g id=\"line2d_10\">\n      <g>\n       <use style=\"stroke:#000000;stroke-width:0.8;\" x=\"26.925\" xlink:href=\"#md4684f3212\" y=\"78.949219\"/>\n      </g>\n     </g>\n     <g id=\"text_10\">\n      <!-- 20 -->\n      <g transform=\"translate(7.2 82.748437)scale(0.1 -0.1)\">\n       <use xlink:href=\"#DejaVuSans-50\"/>\n       <use x=\"63.623047\" xlink:href=\"#DejaVuSans-48\"/>\n      </g>\n     </g>\n    </g>\n    <g id=\"ytick_4\">\n     <g id=\"line2d_11\">\n      <g>\n       <use style=\"stroke:#000000;stroke-width:0.8;\" x=\"26.925\" xlink:href=\"#md4684f3212\" y=\"112.924219\"/>\n      </g>\n     </g>\n     <g id=\"text_11\">\n      <!-- 30 -->\n      <g transform=\"translate(7.2 116.723437)scale(0.1 -0.1)\">\n       <use xlink:href=\"#DejaVuSans-51\"/>\n       <use x=\"63.623047\" xlink:href=\"#DejaVuSans-48\"/>\n      </g>\n     </g>\n    </g>\n    <g id=\"ytick_5\">\n     <g id=\"line2d_12\">\n      <g>\n       <use style=\"stroke:#000000;stroke-width:0.8;\" x=\"26.925\" xlink:href=\"#md4684f3212\" y=\"146.899219\"/>\n      </g>\n     </g>\n     <g id=\"text_12\">\n      <!-- 40 -->\n      <g transform=\"translate(7.2 150.698437)scale(0.1 -0.1)\">\n       <use xlink:href=\"#DejaVuSans-52\"/>\n       <use x=\"63.623047\" xlink:href=\"#DejaVuSans-48\"/>\n      </g>\n     </g>\n    </g>\n    <g id=\"ytick_6\">\n     <g id=\"line2d_13\">\n      <g>\n       <use style=\"stroke:#000000;stroke-width:0.8;\" x=\"26.925\" xlink:href=\"#md4684f3212\" y=\"180.874219\"/>\n      </g>\n     </g>\n     <g id=\"text_13\">\n      <!-- 50 -->\n      <g transform=\"translate(7.2 184.673437)scale(0.1 -0.1)\">\n       <use xlink:href=\"#DejaVuSans-53\"/>\n       <use x=\"63.623047\" xlink:href=\"#DejaVuSans-48\"/>\n      </g>\n     </g>\n    </g>\n    <g id=\"ytick_7\">\n     <g id=\"line2d_14\">\n      <g>\n       <use style=\"stroke:#000000;stroke-width:0.8;\" x=\"26.925\" xlink:href=\"#md4684f3212\" y=\"214.849219\"/>\n      </g>\n     </g>\n     <g id=\"text_14\">\n      <!-- 60 -->\n      <g transform=\"translate(7.2 218.648437)scale(0.1 -0.1)\">\n       <use xlink:href=\"#DejaVuSans-54\"/>\n       <use x=\"63.623047\" xlink:href=\"#DejaVuSans-48\"/>\n      </g>\n     </g>\n    </g>\n   </g>\n   <g id=\"patch_3\">\n    <path d=\"M 26.925 226.740469 \nL 26.925 9.300469 \n\" style=\"fill:none;stroke:#000000;stroke-linecap:square;stroke-linejoin:miter;stroke-width:0.8;\"/>\n   </g>\n   <g id=\"patch_4\">\n    <path d=\"M 244.365 226.740469 \nL 244.365 9.300469 \n\" style=\"fill:none;stroke:#000000;stroke-linecap:square;stroke-linejoin:miter;stroke-width:0.8;\"/>\n   </g>\n   <g id=\"patch_5\">\n    <path d=\"M 26.925 226.740469 \nL 244.365 226.740469 \n\" style=\"fill:none;stroke:#000000;stroke-linecap:square;stroke-linejoin:miter;stroke-width:0.8;\"/>\n   </g>\n   <g id=\"patch_6\">\n    <path d=\"M 26.925 9.300469 \nL 244.365 9.300469 \n\" style=\"fill:none;stroke:#000000;stroke-linecap:square;stroke-linejoin:miter;stroke-width:0.8;\"/>\n   </g>\n  </g>\n </g>\n <defs>\n  <clipPath id=\"pc1b2e4927c\">\n   <rect height=\"217.44\" width=\"217.44\" x=\"26.925\" y=\"9.300469\"/>\n  </clipPath>\n </defs>\n</svg>\n",
      "image/png": "[encoded data removed]"
     },
     "metadata": {
      "needs_background": "light"
     }
    }
   ],
   "source": [
    "# Example of a picture\n",
    "index = 6\n",
    "plt.imshow(X_train_orig[index])\n",
    "print (\"y = \" + str(np.squeeze(Y_train_orig[index])))"
   ]
  },
  {
   "cell_type": "code",
   "execution_count": 10,
   "metadata": {},
   "outputs": [],
   "source": [
    "def preprocessing(X, y):\n",
    "    X = tf.cast(X, dtype=tf.float32) / 255.\n",
    "    y = tf.cast(y, dtype=tf.int32)\n",
    "    y_onehot = tf.one_hot(y, depth=6)\n",
    "    return X, y_onehot"
   ]
  },
  {
   "cell_type": "code",
   "execution_count": 11,
   "metadata": {},
   "outputs": [],
   "source": [
    "train_X = tf.data.Dataset.from_tensor_slices((X_train_orig, Y_train_orig))\n",
    "test_X = tf.data.Dataset.from_tensor_slices((X_test_orig, Y_test_orig))\n",
    "train_db = train_X.shuffle(2000).batch(64).map(preprocessing)\n",
    "test_db = test_X.shuffle(2000).batch(64).map(preprocessing)"
   ]
  },
  {
   "cell_type": "code",
   "execution_count": 12,
   "metadata": {},
   "outputs": [
    {
     "output_type": "execute_result",
     "data": {
      "text/plain": "(TensorShape([64, 64, 64, 3]), TensorShape([64, 6]))"
     },
     "metadata": {},
     "execution_count": 12
    }
   ],
   "source": [
    "sample = next(iter(train_db))\n",
    "sample[0].shape, sample[1].shape"
   ]
  },
  {
   "cell_type": "code",
   "execution_count": 13,
   "metadata": {},
   "outputs": [],
   "source": [
    "from tensorflow.keras import Sequential, layers, losses"
   ]
  },
  {
   "cell_type": "code",
   "execution_count": 14,
   "metadata": {},
   "outputs": [
    {
     "output_type": "stream",
     "text": "\u001b[0;31mInit signature:\u001b[0m\n\u001b[0mlayers\u001b[0m\u001b[0;34m.\u001b[0m\u001b[0mConv2D\u001b[0m\u001b[0;34m(\u001b[0m\u001b[0;34m\u001b[0m\n\u001b[0;34m\u001b[0m    \u001b[0mfilters\u001b[0m\u001b[0;34m,\u001b[0m\u001b[0;34m\u001b[0m\n\u001b[0;34m\u001b[0m    \u001b[0mkernel_size\u001b[0m\u001b[0;34m,\u001b[0m\u001b[0;34m\u001b[0m\n\u001b[0;34m\u001b[0m    \u001b[0mstrides\u001b[0m\u001b[0;34m=\u001b[0m\u001b[0;34m(\u001b[0m\u001b[0;36m1\u001b[0m\u001b[0;34m,\u001b[0m \u001b[0;36m1\u001b[0m\u001b[0;34m)\u001b[0m\u001b[0;34m,\u001b[0m\u001b[0;34m\u001b[0m\n\u001b[0;34m\u001b[0m    \u001b[0mpadding\u001b[0m\u001b[0;34m=\u001b[0m\u001b[0;34m'valid'\u001b[0m\u001b[0;34m,\u001b[0m\u001b[0;34m\u001b[0m\n\u001b[0;34m\u001b[0m    \u001b[0mdata_format\u001b[0m\u001b[0;34m=\u001b[0m\u001b[0;32mNone\u001b[0m\u001b[0;34m,\u001b[0m\u001b[0;34m\u001b[0m\n\u001b[0;34m\u001b[0m    \u001b[0mdilation_rate\u001b[0m\u001b[0;34m=\u001b[0m\u001b[0;34m(\u001b[0m\u001b[0;36m1\u001b[0m\u001b[0;34m,\u001b[0m \u001b[0;36m1\u001b[0m\u001b[0;34m)\u001b[0m\u001b[0;34m,\u001b[0m\u001b[0;34m\u001b[0m\n\u001b[0;34m\u001b[0m    \u001b[0mactivation\u001b[0m\u001b[0;34m=\u001b[0m\u001b[0;32mNone\u001b[0m\u001b[0;34m,\u001b[0m\u001b[0;34m\u001b[0m\n\u001b[0;34m\u001b[0m    \u001b[0muse_bias\u001b[0m\u001b[0;34m=\u001b[0m\u001b[0;32mTrue\u001b[0m\u001b[0;34m,\u001b[0m\u001b[0;34m\u001b[0m\n\u001b[0;34m\u001b[0m    \u001b[0mkernel_initializer\u001b[0m\u001b[0;34m=\u001b[0m\u001b[0;34m'glorot_uniform'\u001b[0m\u001b[0;34m,\u001b[0m\u001b[0;34m\u001b[0m\n\u001b[0;34m\u001b[0m    \u001b[0mbias_initializer\u001b[0m\u001b[0;34m=\u001b[0m\u001b[0;34m'zeros'\u001b[0m\u001b[0;34m,\u001b[0m\u001b[0;34m\u001b[0m\n\u001b[0;34m\u001b[0m    \u001b[0mkernel_regularizer\u001b[0m\u001b[0;34m=\u001b[0m\u001b[0;32mNone\u001b[0m\u001b[0;34m,\u001b[0m\u001b[0;34m\u001b[0m\n\u001b[0;34m\u001b[0m    \u001b[0mbias_regularizer\u001b[0m\u001b[0;34m=\u001b[0m\u001b[0;32mNone\u001b[0m\u001b[0;34m,\u001b[0m\u001b[0;34m\u001b[0m\n\u001b[0;34m\u001b[0m    \u001b[0mactivity_regularizer\u001b[0m\u001b[0;34m=\u001b[0m\u001b[0;32mNone\u001b[0m\u001b[0;34m,\u001b[0m\u001b[0;34m\u001b[0m\n\u001b[0;34m\u001b[0m    \u001b[0mkernel_constraint\u001b[0m\u001b[0;34m=\u001b[0m\u001b[0;32mNone\u001b[0m\u001b[0;34m,\u001b[0m\u001b[0;34m\u001b[0m\n\u001b[0;34m\u001b[0m    \u001b[0mbias_constraint\u001b[0m\u001b[0;34m=\u001b[0m\u001b[0;32mNone\u001b[0m\u001b[0;34m,\u001b[0m\u001b[0;34m\u001b[0m\n\u001b[0;34m\u001b[0m    \u001b[0;34m**\u001b[0m\u001b[0mkwargs\u001b[0m\u001b[0;34m,\u001b[0m\u001b[0;34m\u001b[0m\n\u001b[0;34m\u001b[0m\u001b[0;34m)\u001b[0m\u001b[0;34m\u001b[0m\u001b[0;34m\u001b[0m\u001b[0m\n\u001b[0;31mDocstring:\u001b[0m     \n2D convolution layer (e.g. spatial convolution over images).\n\nThis layer creates a convolution kernel that is convolved\nwith the layer input to produce a tensor of\noutputs. If `use_bias` is True,\na bias vector is created and added to the outputs. Finally, if\n`activation` is not `None`, it is applied to the outputs as well.\n\nWhen using this layer as the first layer in a model,\nprovide the keyword argument `input_shape`\n(tuple of integers, does not include the sample axis),\ne.g. `input_shape=(128, 128, 3)` for 128x128 RGB pictures\nin `data_format=\"channels_last\"`.\n\nArguments:\n  filters: Integer, the dimensionality of the output space\n    (i.e. the number of output filters in the convolution).\n  kernel_size: An integer or tuple/list of 2 integers, specifying the\n    height and width of the 2D convolution window.\n    Can be a single integer to specify the same value for\n    all spatial dimensions.\n  strides: An integer or tuple/list of 2 integers,\n    specifying the strides of the convolution along the height and width.\n    Can be a single integer to specify the same value for\n    all spatial dimensions.\n    Specifying any stride value != 1 is incompatible with specifying\n    any `dilation_rate` value != 1.\n  padding: one of `\"valid\"` or `\"same\"` (case-insensitive).\n  data_format: A string,\n    one of `channels_last` (default) or `channels_first`.\n    The ordering of the dimensions in the inputs.\n    `channels_last` corresponds to inputs with shape\n    `(batch, height, width, channels)` while `channels_first`\n    corresponds to inputs with shape\n    `(batch, channels, height, width)`.\n    It defaults to the `image_data_format` value found in your\n    Keras config file at `~/.keras/keras.json`.\n    If you never set it, then it will be \"channels_last\".\n  dilation_rate: an integer or tuple/list of 2 integers, specifying\n    the dilation rate to use for dilated convolution.\n    Can be a single integer to specify the same value for\n    all spatial dimensions.\n    Currently, specifying any `dilation_rate` value != 1 is\n    incompatible with specifying any stride value != 1.\n  activation: Activation function to use.\n    If you don't specify anything, no activation is applied\n    (ie. \"linear\" activation: `a(x) = x`).\n  use_bias: Boolean, whether the layer uses a bias vector.\n  kernel_initializer: Initializer for the `kernel` weights matrix.\n  bias_initializer: Initializer for the bias vector.\n  kernel_regularizer: Regularizer function applied to\n    the `kernel` weights matrix.\n  bias_regularizer: Regularizer function applied to the bias vector.\n  activity_regularizer: Regularizer function applied to\n    the output of the layer (its \"activation\")..\n  kernel_constraint: Constraint function applied to the kernel matrix.\n  bias_constraint: Constraint function applied to the bias vector.\n\nInput shape:\n  4D tensor with shape:\n  `(samples, channels, rows, cols)` if data_format='channels_first'\n  or 4D tensor with shape:\n  `(samples, rows, cols, channels)` if data_format='channels_last'.\n\nOutput shape:\n  4D tensor with shape:\n  `(samples, filters, new_rows, new_cols)` if data_format='channels_first'\n  or 4D tensor with shape:\n  `(samples, new_rows, new_cols, filters)` if data_format='channels_last'.\n  `rows` and `cols` values might have changed due to padding.\n\u001b[0;31mFile:\u001b[0m           ~/.local/lib/python3.7/site-packages/tensorflow_core/python/keras/layers/convolutional.py\n\u001b[0;31mType:\u001b[0m           type\n\u001b[0;31mSubclasses:\u001b[0m     Conv2DTranspose, DepthwiseConv2D, Conv2D\n",
     "metadata": {},
     "execution_count": 14
    }
   ],
   "source": [
    "layers.Conv2D?"
   ]
  },
  {
   "cell_type": "code",
   "execution_count": 15,
   "metadata": {},
   "outputs": [
    {
     "output_type": "stream",
     "text": "\u001b[0;31mInit signature:\u001b[0m\n\u001b[0mlayers\u001b[0m\u001b[0;34m.\u001b[0m\u001b[0mMaxPool2D\u001b[0m\u001b[0;34m(\u001b[0m\u001b[0;34m\u001b[0m\n\u001b[0;34m\u001b[0m    \u001b[0mpool_size\u001b[0m\u001b[0;34m=\u001b[0m\u001b[0;34m(\u001b[0m\u001b[0;36m2\u001b[0m\u001b[0;34m,\u001b[0m \u001b[0;36m2\u001b[0m\u001b[0;34m)\u001b[0m\u001b[0;34m,\u001b[0m\u001b[0;34m\u001b[0m\n\u001b[0;34m\u001b[0m    \u001b[0mstrides\u001b[0m\u001b[0;34m=\u001b[0m\u001b[0;32mNone\u001b[0m\u001b[0;34m,\u001b[0m\u001b[0;34m\u001b[0m\n\u001b[0;34m\u001b[0m    \u001b[0mpadding\u001b[0m\u001b[0;34m=\u001b[0m\u001b[0;34m'valid'\u001b[0m\u001b[0;34m,\u001b[0m\u001b[0;34m\u001b[0m\n\u001b[0;34m\u001b[0m    \u001b[0mdata_format\u001b[0m\u001b[0;34m=\u001b[0m\u001b[0;32mNone\u001b[0m\u001b[0;34m,\u001b[0m\u001b[0;34m\u001b[0m\n\u001b[0;34m\u001b[0m    \u001b[0;34m**\u001b[0m\u001b[0mkwargs\u001b[0m\u001b[0;34m,\u001b[0m\u001b[0;34m\u001b[0m\n\u001b[0;34m\u001b[0m\u001b[0;34m)\u001b[0m\u001b[0;34m\u001b[0m\u001b[0;34m\u001b[0m\u001b[0m\n\u001b[0;31mDocstring:\u001b[0m     \nMax pooling operation for spatial data.\n\nArguments:\n  pool_size: integer or tuple of 2 integers,\n    factors by which to downscale (vertical, horizontal).\n    `(2, 2)` will halve the input in both spatial dimension.\n    If only one integer is specified, the same window length\n    will be used for both dimensions.\n  strides: Integer, tuple of 2 integers, or None.\n    Strides values.\n    If None, it will default to `pool_size`.\n  padding: One of `\"valid\"` or `\"same\"` (case-insensitive).\n  data_format: A string,\n    one of `channels_last` (default) or `channels_first`.\n    The ordering of the dimensions in the inputs.\n    `channels_last` corresponds to inputs with shape\n    `(batch, height, width, channels)` while `channels_first`\n    corresponds to inputs with shape\n    `(batch, channels, height, width)`.\n    It defaults to the `image_data_format` value found in your\n    Keras config file at `~/.keras/keras.json`.\n    If you never set it, then it will be \"channels_last\".\n\nInput shape:\n  - If `data_format='channels_last'`:\n    4D tensor with shape `(batch_size, rows, cols, channels)`.\n  - If `data_format='channels_first'`:\n    4D tensor with shape `(batch_size, channels, rows, cols)`.\n\nOutput shape:\n  - If `data_format='channels_last'`:\n    4D tensor with shape `(batch_size, pooled_rows, pooled_cols, channels)`.\n  - If `data_format='channels_first'`:\n    4D tensor with shape `(batch_size, channels, pooled_rows, pooled_cols)`.\n\u001b[0;31mFile:\u001b[0m           ~/.local/lib/python3.7/site-packages/tensorflow_core/python/keras/layers/pooling.py\n\u001b[0;31mType:\u001b[0m           type\n\u001b[0;31mSubclasses:\u001b[0m     MaxPooling2D\n",
     "metadata": {},
     "execution_count": 15
    }
   ],
   "source": [
    "layers.MaxPool2D?"
   ]
  },
  {
   "cell_type": "code",
   "execution_count": 18,
   "metadata": {},
   "outputs": [],
   "source": [
    "model = Sequential([\n",
    "    layers.Conv2D(8, kernel_size=(4, 4), strides=1, padding='SAME', activation='relu'),\n",
    "    layers.MaxPool2D(pool_size=(8, 8), strides=8, padding='SAME'),\n",
    "    layers.Conv2D(16, kernel_size=(2, 2), strides=1, padding='SAME', activation='relu'),\n",
    "    layers.MaxPool2D(pool_size=(4, 4), strides=4, padding='SAME'),\n",
    "    layers.Flatten(),\n",
    "    layers.Dense(6)\n",
    "])"
   ]
  },
  {
   "cell_type": "code",
   "execution_count": 19,
   "metadata": {},
   "outputs": [
    {
     "output_type": "stream",
     "name": "stdout",
     "text": "Model: \"sequential\"\n_________________________________________________________________\nLayer (type)                 Output Shape              Param #   \n=================================================================\nconv2d (Conv2D)              multiple                  392       \n_________________________________________________________________\nmax_pooling2d (MaxPooling2D) multiple                  0         \n_________________________________________________________________\nconv2d_1 (Conv2D)            multiple                  528       \n_________________________________________________________________\nmax_pooling2d_1 (MaxPooling2 multiple                  0         \n_________________________________________________________________\nflatten (Flatten)            multiple                  0         \n_________________________________________________________________\ndense (Dense)                multiple                  390       \n=================================================================\nTotal params: 1,310\nTrainable params: 1,310\nNon-trainable params: 0\n_________________________________________________________________\n"
    }
   ],
   "source": [
    "model.build(input_shape=(None, 64, 64, 3))\n",
    "model.summary()"
   ]
  },
  {
   "cell_type": "code",
   "execution_count": 20,
   "metadata": {},
   "outputs": [
    {
     "output_type": "stream",
     "text": "\u001b[0;31mSignature:\u001b[0m\n\u001b[0mmodel\u001b[0m\u001b[0;34m.\u001b[0m\u001b[0mcompile\u001b[0m\u001b[0;34m(\u001b[0m\u001b[0;34m\u001b[0m\n\u001b[0;34m\u001b[0m    \u001b[0moptimizer\u001b[0m\u001b[0;34m=\u001b[0m\u001b[0;34m'rmsprop'\u001b[0m\u001b[0;34m,\u001b[0m\u001b[0;34m\u001b[0m\n\u001b[0;34m\u001b[0m    \u001b[0mloss\u001b[0m\u001b[0;34m=\u001b[0m\u001b[0;32mNone\u001b[0m\u001b[0;34m,\u001b[0m\u001b[0;34m\u001b[0m\n\u001b[0;34m\u001b[0m    \u001b[0mmetrics\u001b[0m\u001b[0;34m=\u001b[0m\u001b[0;32mNone\u001b[0m\u001b[0;34m,\u001b[0m\u001b[0;34m\u001b[0m\n\u001b[0;34m\u001b[0m    \u001b[0mloss_weights\u001b[0m\u001b[0;34m=\u001b[0m\u001b[0;32mNone\u001b[0m\u001b[0;34m,\u001b[0m\u001b[0;34m\u001b[0m\n\u001b[0;34m\u001b[0m    \u001b[0msample_weight_mode\u001b[0m\u001b[0;34m=\u001b[0m\u001b[0;32mNone\u001b[0m\u001b[0;34m,\u001b[0m\u001b[0;34m\u001b[0m\n\u001b[0;34m\u001b[0m    \u001b[0mweighted_metrics\u001b[0m\u001b[0;34m=\u001b[0m\u001b[0;32mNone\u001b[0m\u001b[0;34m,\u001b[0m\u001b[0;34m\u001b[0m\n\u001b[0;34m\u001b[0m    \u001b[0mtarget_tensors\u001b[0m\u001b[0;34m=\u001b[0m\u001b[0;32mNone\u001b[0m\u001b[0;34m,\u001b[0m\u001b[0;34m\u001b[0m\n\u001b[0;34m\u001b[0m    \u001b[0mdistribute\u001b[0m\u001b[0;34m=\u001b[0m\u001b[0;32mNone\u001b[0m\u001b[0;34m,\u001b[0m\u001b[0;34m\u001b[0m\n\u001b[0;34m\u001b[0m    \u001b[0;34m**\u001b[0m\u001b[0mkwargs\u001b[0m\u001b[0;34m,\u001b[0m\u001b[0;34m\u001b[0m\n\u001b[0;34m\u001b[0m\u001b[0;34m)\u001b[0m\u001b[0;34m\u001b[0m\u001b[0;34m\u001b[0m\u001b[0m\n\u001b[0;31mDocstring:\u001b[0m\nConfigures the model for training.\n\nArguments:\n    optimizer: String (name of optimizer) or optimizer instance.\n        See `tf.keras.optimizers`.\n    loss: String (name of objective function), objective function or\n        `tf.keras.losses.Loss` instance. See `tf.keras.losses`. An objective\n        function is any callable with the signature\n        `scalar_loss = fn(y_true, y_pred)`. If the model has multiple\n        outputs, you can use a different loss on each output by passing a\n        dictionary or a list of losses. The loss value that will be\n        minimized by the model will then be the sum of all individual\n        losses.\n    metrics: List of metrics to be evaluated by the model during training\n        and testing. Typically you will use `metrics=['accuracy']`.\n        To specify different metrics for different outputs of a\n        multi-output model, you could also pass a dictionary, such as\n        `metrics={'output_a': 'accuracy', 'output_b': ['accuracy', 'mse']}`.\n        You can also pass a list (len = len(outputs)) of lists of metrics\n        such as `metrics=[['accuracy'], ['accuracy', 'mse']]` or\n        `metrics=['accuracy', ['accuracy', 'mse']]`.\n    loss_weights: Optional list or dictionary specifying scalar\n        coefficients (Python floats) to weight the loss contributions\n        of different model outputs.\n        The loss value that will be minimized by the model\n        will then be the *weighted sum* of all individual losses,\n        weighted by the `loss_weights` coefficients.\n        If a list, it is expected to have a 1:1 mapping\n        to the model's outputs. If a tensor, it is expected to map\n        output names (strings) to scalar coefficients.\n    sample_weight_mode: If you need to do timestep-wise\n        sample weighting (2D weights), set this to `\"temporal\"`.\n        `None` defaults to sample-wise weights (1D).\n        If the model has multiple outputs, you can use a different\n        `sample_weight_mode` on each output by passing a\n        dictionary or a list of modes.\n    weighted_metrics: List of metrics to be evaluated and weighted\n        by sample_weight or class_weight during training and testing.\n    target_tensors: By default, Keras will create placeholders for the\n        model's target, which will be fed with the target data during\n        training. If instead you would like to use your own\n        target tensors (in turn, Keras will not expect external\n        Numpy data for these targets at training time), you\n        can specify them via the `target_tensors` argument. It can be\n        a single tensor (for a single-output model), a list of tensors,\n        or a dict mapping output names to target tensors.\n    distribute: NOT SUPPORTED IN TF 2.0, please create and compile the\n        model under distribution strategy scope instead of passing it to\n        compile.\n    **kwargs: Any additional arguments.\n\nRaises:\n    ValueError: In case of invalid arguments for\n        `optimizer`, `loss`, `metrics` or `sample_weight_mode`.\n\u001b[0;31mFile:\u001b[0m      ~/.local/lib/python3.7/site-packages/tensorflow_core/python/keras/engine/training.py\n\u001b[0;31mType:\u001b[0m      method\n",
     "metadata": {},
     "execution_count": 20
    }
   ],
   "source": [
    "model.compile?"
   ]
  },
  {
   "cell_type": "code",
   "execution_count": 32,
   "metadata": {},
   "outputs": [],
   "source": [
    "model.compile(optimizer='adam', loss=losses.CategoricalCrossentropy(from_logits=True), metrics=['accuracy'])"
   ]
  },
  {
   "cell_type": "code",
   "execution_count": 23,
   "metadata": {},
   "outputs": [
    {
     "output_type": "stream",
     "text": "\u001b[0;31mSignature:\u001b[0m\n\u001b[0mmodel\u001b[0m\u001b[0;34m.\u001b[0m\u001b[0mfit\u001b[0m\u001b[0;34m(\u001b[0m\u001b[0;34m\u001b[0m\n\u001b[0;34m\u001b[0m    \u001b[0mx\u001b[0m\u001b[0;34m=\u001b[0m\u001b[0;32mNone\u001b[0m\u001b[0;34m,\u001b[0m\u001b[0;34m\u001b[0m\n\u001b[0;34m\u001b[0m    \u001b[0my\u001b[0m\u001b[0;34m=\u001b[0m\u001b[0;32mNone\u001b[0m\u001b[0;34m,\u001b[0m\u001b[0;34m\u001b[0m\n\u001b[0;34m\u001b[0m    \u001b[0mbatch_size\u001b[0m\u001b[0;34m=\u001b[0m\u001b[0;32mNone\u001b[0m\u001b[0;34m,\u001b[0m\u001b[0;34m\u001b[0m\n\u001b[0;34m\u001b[0m    \u001b[0mepochs\u001b[0m\u001b[0;34m=\u001b[0m\u001b[0;36m1\u001b[0m\u001b[0;34m,\u001b[0m\u001b[0;34m\u001b[0m\n\u001b[0;34m\u001b[0m    \u001b[0mverbose\u001b[0m\u001b[0;34m=\u001b[0m\u001b[0;36m1\u001b[0m\u001b[0;34m,\u001b[0m\u001b[0;34m\u001b[0m\n\u001b[0;34m\u001b[0m    \u001b[0mcallbacks\u001b[0m\u001b[0;34m=\u001b[0m\u001b[0;32mNone\u001b[0m\u001b[0;34m,\u001b[0m\u001b[0;34m\u001b[0m\n\u001b[0;34m\u001b[0m    \u001b[0mvalidation_split\u001b[0m\u001b[0;34m=\u001b[0m\u001b[0;36m0.0\u001b[0m\u001b[0;34m,\u001b[0m\u001b[0;34m\u001b[0m\n\u001b[0;34m\u001b[0m    \u001b[0mvalidation_data\u001b[0m\u001b[0;34m=\u001b[0m\u001b[0;32mNone\u001b[0m\u001b[0;34m,\u001b[0m\u001b[0;34m\u001b[0m\n\u001b[0;34m\u001b[0m    \u001b[0mshuffle\u001b[0m\u001b[0;34m=\u001b[0m\u001b[0;32mTrue\u001b[0m\u001b[0;34m,\u001b[0m\u001b[0;34m\u001b[0m\n\u001b[0;34m\u001b[0m    \u001b[0mclass_weight\u001b[0m\u001b[0;34m=\u001b[0m\u001b[0;32mNone\u001b[0m\u001b[0;34m,\u001b[0m\u001b[0;34m\u001b[0m\n\u001b[0;34m\u001b[0m    \u001b[0msample_weight\u001b[0m\u001b[0;34m=\u001b[0m\u001b[0;32mNone\u001b[0m\u001b[0;34m,\u001b[0m\u001b[0;34m\u001b[0m\n\u001b[0;34m\u001b[0m    \u001b[0minitial_epoch\u001b[0m\u001b[0;34m=\u001b[0m\u001b[0;36m0\u001b[0m\u001b[0;34m,\u001b[0m\u001b[0;34m\u001b[0m\n\u001b[0;34m\u001b[0m    \u001b[0msteps_per_epoch\u001b[0m\u001b[0;34m=\u001b[0m\u001b[0;32mNone\u001b[0m\u001b[0;34m,\u001b[0m\u001b[0;34m\u001b[0m\n\u001b[0;34m\u001b[0m    \u001b[0mvalidation_steps\u001b[0m\u001b[0;34m=\u001b[0m\u001b[0;32mNone\u001b[0m\u001b[0;34m,\u001b[0m\u001b[0;34m\u001b[0m\n\u001b[0;34m\u001b[0m    \u001b[0mvalidation_freq\u001b[0m\u001b[0;34m=\u001b[0m\u001b[0;36m1\u001b[0m\u001b[0;34m,\u001b[0m\u001b[0;34m\u001b[0m\n\u001b[0;34m\u001b[0m    \u001b[0mmax_queue_size\u001b[0m\u001b[0;34m=\u001b[0m\u001b[0;36m10\u001b[0m\u001b[0;34m,\u001b[0m\u001b[0;34m\u001b[0m\n\u001b[0;34m\u001b[0m    \u001b[0mworkers\u001b[0m\u001b[0;34m=\u001b[0m\u001b[0;36m1\u001b[0m\u001b[0;34m,\u001b[0m\u001b[0;34m\u001b[0m\n\u001b[0;34m\u001b[0m    \u001b[0muse_multiprocessing\u001b[0m\u001b[0;34m=\u001b[0m\u001b[0;32mFalse\u001b[0m\u001b[0;34m,\u001b[0m\u001b[0;34m\u001b[0m\n\u001b[0;34m\u001b[0m    \u001b[0;34m**\u001b[0m\u001b[0mkwargs\u001b[0m\u001b[0;34m,\u001b[0m\u001b[0;34m\u001b[0m\n\u001b[0;34m\u001b[0m\u001b[0;34m)\u001b[0m\u001b[0;34m\u001b[0m\u001b[0;34m\u001b[0m\u001b[0m\n\u001b[0;31mDocstring:\u001b[0m\nTrains the model for a fixed number of epochs (iterations on a dataset).\n\nArguments:\n    x: Input data. It could be:\n      - A Numpy array (or array-like), or a list of arrays\n        (in case the model has multiple inputs).\n      - A TensorFlow tensor, or a list of tensors\n        (in case the model has multiple inputs).\n      - A dict mapping input names to the corresponding array/tensors,\n        if the model has named inputs.\n      - A `tf.data` dataset. Should return a tuple\n        of either `(inputs, targets)` or\n        `(inputs, targets, sample_weights)`.\n      - A generator or `keras.utils.Sequence` returning `(inputs, targets)`\n        or `(inputs, targets, sample weights)`.\n      A more detailed description of unpacking behavior for iterator types\n      (Dataset, generator, Sequence) is given below.\n    y: Target data. Like the input data `x`,\n      it could be either Numpy array(s) or TensorFlow tensor(s).\n      It should be consistent with `x` (you cannot have Numpy inputs and\n      tensor targets, or inversely). If `x` is a dataset, generator,\n      or `keras.utils.Sequence` instance, `y` should\n      not be specified (since targets will be obtained from `x`).\n    batch_size: Integer or `None`.\n        Number of samples per gradient update.\n        If unspecified, `batch_size` will default to 32.\n        Do not specify the `batch_size` if your data is in the\n        form of symbolic tensors, datasets,\n        generators, or `keras.utils.Sequence` instances (since they generate\n        batches).\n    epochs: Integer. Number of epochs to train the model.\n        An epoch is an iteration over the entire `x` and `y`\n        data provided.\n        Note that in conjunction with `initial_epoch`,\n        `epochs` is to be understood as \"final epoch\".\n        The model is not trained for a number of iterations\n        given by `epochs`, but merely until the epoch\n        of index `epochs` is reached.\n    verbose: 0, 1, or 2. Verbosity mode.\n        0 = silent, 1 = progress bar, 2 = one line per epoch.\n        Note that the progress bar is not particularly useful when\n        logged to a file, so verbose=2 is recommended when not running\n        interactively (eg, in a production environment).\n    callbacks: List of `keras.callbacks.Callback` instances.\n        List of callbacks to apply during training.\n        See `tf.keras.callbacks`.\n    validation_split: Float between 0 and 1.\n        Fraction of the training data to be used as validation data.\n        The model will set apart this fraction of the training data,\n        will not train on it, and will evaluate\n        the loss and any model metrics\n        on this data at the end of each epoch.\n        The validation data is selected from the last samples\n        in the `x` and `y` data provided, before shuffling. This argument is\n        not supported when `x` is a dataset, generator or\n       `keras.utils.Sequence` instance.\n    validation_data: Data on which to evaluate\n        the loss and any model metrics at the end of each epoch.\n        The model will not be trained on this data.\n        `validation_data` will override `validation_split`.\n        `validation_data` could be:\n          - tuple `(x_val, y_val)` of Numpy arrays or tensors\n          - tuple `(x_val, y_val, val_sample_weights)` of Numpy arrays\n          - dataset\n        For the first two cases, `batch_size` must be provided.\n        For the last case, `validation_steps` could be provided.\n    shuffle: Boolean (whether to shuffle the training data\n        before each epoch) or str (for 'batch').\n        'batch' is a special option for dealing with the\n        limitations of HDF5 data; it shuffles in batch-sized chunks.\n        Has no effect when `steps_per_epoch` is not `None`.\n    class_weight: Optional dictionary mapping class indices (integers)\n        to a weight (float) value, used for weighting the loss function\n        (during training only).\n        This can be useful to tell the model to\n        \"pay more attention\" to samples from\n        an under-represented class.\n    sample_weight: Optional Numpy array of weights for\n        the training samples, used for weighting the loss function\n        (during training only). You can either pass a flat (1D)\n        Numpy array with the same length as the input samples\n        (1:1 mapping between weights and samples),\n        or in the case of temporal data,\n        you can pass a 2D array with shape\n        `(samples, sequence_length)`,\n        to apply a different weight to every timestep of every sample.\n        In this case you should make sure to specify\n        `sample_weight_mode=\"temporal\"` in `compile()`. This argument is not\n        supported when `x` is a dataset, generator, or\n       `keras.utils.Sequence` instance, instead provide the sample_weights\n        as the third element of `x`.\n    initial_epoch: Integer.\n        Epoch at which to start training\n        (useful for resuming a previous training run).\n    steps_per_epoch: Integer or `None`.\n        Total number of steps (batches of samples)\n        before declaring one epoch finished and starting the\n        next epoch. When training with input tensors such as\n        TensorFlow data tensors, the default `None` is equal to\n        the number of samples in your dataset divided by\n        the batch size, or 1 if that cannot be determined. If x is a\n        `tf.data` dataset, and 'steps_per_epoch'\n        is None, the epoch will run until the input dataset is exhausted.\n        This argument is not supported with array inputs.\n    validation_steps: Only relevant if `validation_data` is provided and\n        is a `tf.data` dataset. Total number of steps (batches of\n        samples) to draw before stopping when performing validation\n        at the end of every epoch. If 'validation_steps' is None, validation\n        will run until the `validation_data` dataset is exhausted. In the\n        case of a infinite dataset, it will run into a infinite loop.\n        If 'validation_steps' is specified and only part of the dataset\n        will be consumed, the evaluation will start from the beginning of\n        the dataset at each epoch. This ensures that the same validation\n        samples are used every time.\n    validation_freq: Only relevant if validation data is provided. Integer\n        or `collections_abc.Container` instance (e.g. list, tuple, etc.).\n        If an integer, specifies how many training epochs to run before a\n        new validation run is performed, e.g. `validation_freq=2` runs\n        validation every 2 epochs. If a Container, specifies the epochs on\n        which to run validation, e.g. `validation_freq=[1, 2, 10]` runs\n        validation at the end of the 1st, 2nd, and 10th epochs.\n    max_queue_size: Integer. Used for generator or `keras.utils.Sequence`\n        input only. Maximum size for the generator queue.\n        If unspecified, `max_queue_size` will default to 10.\n    workers: Integer. Used for generator or `keras.utils.Sequence` input\n        only. Maximum number of processes to spin up\n        when using process-based threading. If unspecified, `workers`\n        will default to 1. If 0, will execute the generator on the main\n        thread.\n    use_multiprocessing: Boolean. Used for generator or\n        `keras.utils.Sequence` input only. If `True`, use process-based\n        threading. If unspecified, `use_multiprocessing` will default to\n        `False`. Note that because this implementation relies on\n        multiprocessing, you should not pass non-picklable arguments to\n        the generator as they can't be passed easily to children processes.\n    **kwargs: Used for backwards compatibility.\n\nUnpacking behavior for iterator-like inputs:\n    A common pattern is to pass a tf.data.Dataset, generator, or\n  tf.keras.utils.Sequence to the `x` argument of fit, which will in fact\n  yield not only features (x) but optionally targets (y) and sample weights.\n  Keras requires that the output of such iterator-likes be unambiguous. The\n  iterator should return a tuple of length 1, 2, or 3, where the optional\n  second and third elements will be used for y and sample_weight\n  respectively. Any other type provided will be wrapped in a length one\n  tuple, effectively treating everything as 'x'. When yielding dicts, they\n  should still adhere to the top-level tuple structure.\n  e.g. `({\"x0\": x0, \"x1\": x1}, y)`. Keras will not attempt to separate\n  features, targets, and weights from the keys of a single dict.\n    A notable unsupported data type is the namedtuple. The reason is that\n  it behaves like both an ordered datatype (tuple) and a mapping\n  datatype (dict). So given a namedtuple of the form:\n      `namedtuple(\"example_tuple\", [\"y\", \"x\"])`\n  it is ambiguous whether to reverse the order of the elements when\n  interpreting the value. Even worse is a tuple of the form:\n      `namedtuple(\"other_tuple\", [\"x\", \"y\", \"z\"])`\n  where it is unclear if the tuple was intended to be unpacked into x, y,\n  and sample_weight or passed through as a single element to `x`. As a\n  result the data processing code will simply raise a ValueError if it\n  encounters a namedtuple. (Along with instructions to remedy the issue.)\n\nReturns:\n    A `History` object. Its `History.history` attribute is\n    a record of training loss values and metrics values\n    at successive epochs, as well as validation loss values\n    and validation metrics values (if applicable).\n\nRaises:\n    RuntimeError: If the model was never compiled.\n    ValueError: In case of mismatch between the provided input data\n        and what the model expects.\n\u001b[0;31mFile:\u001b[0m      ~/.local/lib/python3.7/site-packages/tensorflow_core/python/keras/engine/training.py\n\u001b[0;31mType:\u001b[0m      method\n",
     "metadata": {},
     "execution_count": 23
    }
   ],
   "source": [
    "model.fit?"
   ]
  },
  {
   "cell_type": "code",
   "execution_count": 34,
   "metadata": {},
   "outputs": [
    {
     "output_type": "stream",
     "name": "stdout",
     "text": "Train for 17 steps, validate for 2 steps\nEpoch 1/100\n17/17 [==============================] - 0s 13ms/step - loss: 0.7993 - accuracy: 0.7315\nEpoch 2/100\n17/17 [==============================] - 0s 14ms/step - loss: 0.7830 - accuracy: 0.7435 - val_loss: 0.8409 - val_accuracy: 0.7000\nEpoch 3/100\n17/17 [==============================] - 0s 12ms/step - loss: 0.7758 - accuracy: 0.7380\nEpoch 4/100\n17/17 [==============================] - 0s 14ms/step - loss: 0.7689 - accuracy: 0.7583 - val_loss: 0.8486 - val_accuracy: 0.6833\nEpoch 5/100\n17/17 [==============================] - 0s 12ms/step - loss: 0.7670 - accuracy: 0.7528\nEpoch 6/100\n17/17 [==============================] - 0s 13ms/step - loss: 0.7432 - accuracy: 0.7528 - val_loss: 0.8150 - val_accuracy: 0.6833\nEpoch 7/100\n17/17 [==============================] - 0s 12ms/step - loss: 0.7398 - accuracy: 0.7519\nEpoch 8/100\n17/17 [==============================] - 0s 14ms/step - loss: 0.7396 - accuracy: 0.7528 - val_loss: 0.7953 - val_accuracy: 0.6917\nEpoch 9/100\n17/17 [==============================] - 0s 13ms/step - loss: 0.7208 - accuracy: 0.7676\nEpoch 10/100\n17/17 [==============================] - 0s 14ms/step - loss: 0.7008 - accuracy: 0.7759 - val_loss: 0.7840 - val_accuracy: 0.7250\nEpoch 11/100\n17/17 [==============================] - 0s 12ms/step - loss: 0.6954 - accuracy: 0.7833\nEpoch 12/100\n17/17 [==============================] - 0s 14ms/step - loss: 0.6965 - accuracy: 0.7769 - val_loss: 0.7638 - val_accuracy: 0.7250\nEpoch 13/100\n17/17 [==============================] - 0s 13ms/step - loss: 0.6834 - accuracy: 0.7806\nEpoch 14/100\n17/17 [==============================] - 0s 14ms/step - loss: 0.7028 - accuracy: 0.7750 - val_loss: 0.7614 - val_accuracy: 0.7000\nEpoch 15/100\n17/17 [==============================] - 0s 12ms/step - loss: 0.6760 - accuracy: 0.7806\nEpoch 16/100\n17/17 [==============================] - 0s 14ms/step - loss: 0.6616 - accuracy: 0.7898 - val_loss: 0.7387 - val_accuracy: 0.7167\nEpoch 17/100\n17/17 [==============================] - 0s 12ms/step - loss: 0.6486 - accuracy: 0.7972\nEpoch 18/100\n17/17 [==============================] - 0s 14ms/step - loss: 0.6463 - accuracy: 0.8009 - val_loss: 0.7213 - val_accuracy: 0.7083\nEpoch 19/100\n17/17 [==============================] - 0s 12ms/step - loss: 0.6341 - accuracy: 0.8083\nEpoch 20/100\n17/17 [==============================] - 0s 14ms/step - loss: 0.6286 - accuracy: 0.8111 - val_loss: 0.7067 - val_accuracy: 0.7250\nEpoch 21/100\n17/17 [==============================] - 0s 12ms/step - loss: 0.6227 - accuracy: 0.8157\nEpoch 22/100\n17/17 [==============================] - 0s 14ms/step - loss: 0.6140 - accuracy: 0.8120 - val_loss: 0.6901 - val_accuracy: 0.7250\nEpoch 23/100\n17/17 [==============================] - 0s 14ms/step - loss: 0.6108 - accuracy: 0.8102\nEpoch 24/100\n17/17 [==============================] - 0s 13ms/step - loss: 0.6150 - accuracy: 0.8120 - val_loss: 0.7063 - val_accuracy: 0.7167\nEpoch 25/100\n17/17 [==============================] - 0s 12ms/step - loss: 0.6005 - accuracy: 0.8148\nEpoch 26/100\n17/17 [==============================] - 0s 14ms/step - loss: 0.5874 - accuracy: 0.8250 - val_loss: 0.6959 - val_accuracy: 0.7250\nEpoch 27/100\n17/17 [==============================] - 0s 12ms/step - loss: 0.5870 - accuracy: 0.8194\nEpoch 28/100\n17/17 [==============================] - 0s 13ms/step - loss: 0.5940 - accuracy: 0.8037 - val_loss: 0.6890 - val_accuracy: 0.7417\nEpoch 29/100\n17/17 [==============================] - 0s 13ms/step - loss: 0.5815 - accuracy: 0.8250\nEpoch 30/100\n17/17 [==============================] - 0s 14ms/step - loss: 0.5800 - accuracy: 0.8185 - val_loss: 0.6927 - val_accuracy: 0.7083\nEpoch 31/100\n17/17 [==============================] - 0s 12ms/step - loss: 0.5644 - accuracy: 0.8241\nEpoch 32/100\n17/17 [==============================] - 0s 14ms/step - loss: 0.5648 - accuracy: 0.8370 - val_loss: 0.6607 - val_accuracy: 0.7000\nEpoch 33/100\n17/17 [==============================] - 0s 12ms/step - loss: 0.5600 - accuracy: 0.8278\nEpoch 34/100\n17/17 [==============================] - 0s 14ms/step - loss: 0.5552 - accuracy: 0.8296 - val_loss: 0.6645 - val_accuracy: 0.7250\nEpoch 35/100\n17/17 [==============================] - 0s 12ms/step - loss: 0.5458 - accuracy: 0.8343\nEpoch 36/100\n17/17 [==============================] - 0s 14ms/step - loss: 0.5396 - accuracy: 0.8380 - val_loss: 0.6319 - val_accuracy: 0.7250\nEpoch 37/100\n17/17 [==============================] - 0s 12ms/step - loss: 0.5349 - accuracy: 0.8417\nEpoch 38/100\n17/17 [==============================] - 0s 14ms/step - loss: 0.5268 - accuracy: 0.8389 - val_loss: 0.6340 - val_accuracy: 0.7417\nEpoch 39/100\n17/17 [==============================] - 0s 12ms/step - loss: 0.5193 - accuracy: 0.8565\nEpoch 40/100\n17/17 [==============================] - 0s 14ms/step - loss: 0.5158 - accuracy: 0.8500 - val_loss: 0.6404 - val_accuracy: 0.7333\nEpoch 41/100\n17/17 [==============================] - 0s 12ms/step - loss: 0.5266 - accuracy: 0.8222\nEpoch 42/100\n17/17 [==============================] - 0s 13ms/step - loss: 0.5151 - accuracy: 0.8398 - val_loss: 0.6272 - val_accuracy: 0.7667\nEpoch 43/100\n17/17 [==============================] - 0s 12ms/step - loss: 0.5061 - accuracy: 0.8407\nEpoch 44/100\n17/17 [==============================] - 0s 13ms/step - loss: 0.5069 - accuracy: 0.8472 - val_loss: 0.6200 - val_accuracy: 0.7667\nEpoch 45/100\n17/17 [==============================] - 0s 13ms/step - loss: 0.4990 - accuracy: 0.8435\nEpoch 46/100\n17/17 [==============================] - 0s 14ms/step - loss: 0.4944 - accuracy: 0.8454 - val_loss: 0.6169 - val_accuracy: 0.7667\nEpoch 47/100\n17/17 [==============================] - 0s 12ms/step - loss: 0.4970 - accuracy: 0.8435\nEpoch 48/100\n17/17 [==============================] - 0s 14ms/step - loss: 0.4948 - accuracy: 0.8417 - val_loss: 0.5874 - val_accuracy: 0.7417\nEpoch 49/100\n17/17 [==============================] - 0s 12ms/step - loss: 0.4791 - accuracy: 0.8537\nEpoch 50/100\n17/17 [==============================] - 0s 14ms/step - loss: 0.4842 - accuracy: 0.8481 - val_loss: 0.5948 - val_accuracy: 0.7333\nEpoch 51/100\n17/17 [==============================] - 0s 12ms/step - loss: 0.4696 - accuracy: 0.8546\nEpoch 52/100\n17/17 [==============================] - 0s 13ms/step - loss: 0.4671 - accuracy: 0.8556 - val_loss: 0.5786 - val_accuracy: 0.7500\nEpoch 53/100\n17/17 [==============================] - 0s 12ms/step - loss: 0.4708 - accuracy: 0.8463\nEpoch 54/100\n17/17 [==============================] - 0s 13ms/step - loss: 0.4679 - accuracy: 0.8611 - val_loss: 0.5913 - val_accuracy: 0.7250\nEpoch 55/100\n17/17 [==============================] - 0s 12ms/step - loss: 0.4671 - accuracy: 0.8593\nEpoch 56/100\n17/17 [==============================] - 0s 13ms/step - loss: 0.4628 - accuracy: 0.8528 - val_loss: 0.5686 - val_accuracy: 0.7333\nEpoch 57/100\n17/17 [==============================] - 0s 12ms/step - loss: 0.4518 - accuracy: 0.8565\nEpoch 58/100\n17/17 [==============================] - 0s 14ms/step - loss: 0.4511 - accuracy: 0.8630 - val_loss: 0.5821 - val_accuracy: 0.7500\nEpoch 59/100\n17/17 [==============================] - 0s 12ms/step - loss: 0.4589 - accuracy: 0.8463\nEpoch 60/100\n17/17 [==============================] - 0s 14ms/step - loss: 0.4437 - accuracy: 0.8676 - val_loss: 0.5701 - val_accuracy: 0.7667\nEpoch 61/100\n17/17 [==============================] - 0s 12ms/step - loss: 0.4398 - accuracy: 0.8593\nEpoch 62/100\n17/17 [==============================] - 0s 14ms/step - loss: 0.4342 - accuracy: 0.8704 - val_loss: 0.5509 - val_accuracy: 0.7583\nEpoch 63/100\n17/17 [==============================] - 0s 12ms/step - loss: 0.4356 - accuracy: 0.8685\nEpoch 64/100\n17/17 [==============================] - 0s 13ms/step - loss: 0.4430 - accuracy: 0.8630 - val_loss: 0.5764 - val_accuracy: 0.7833\nEpoch 65/100\n17/17 [==============================] - 0s 13ms/step - loss: 0.4311 - accuracy: 0.8630\nEpoch 66/100\n17/17 [==============================] - 0s 14ms/step - loss: 0.4271 - accuracy: 0.8731 - val_loss: 0.5836 - val_accuracy: 0.7667\nEpoch 67/100\n17/17 [==============================] - 0s 12ms/step - loss: 0.4320 - accuracy: 0.8630\nEpoch 68/100\n17/17 [==============================] - 0s 13ms/step - loss: 0.4198 - accuracy: 0.8685 - val_loss: 0.5506 - val_accuracy: 0.7750\nEpoch 69/100\n17/17 [==============================] - 0s 12ms/step - loss: 0.4134 - accuracy: 0.8713\nEpoch 70/100\n17/17 [==============================] - 0s 14ms/step - loss: 0.4141 - accuracy: 0.8741 - val_loss: 0.5443 - val_accuracy: 0.7583\nEpoch 71/100\n17/17 [==============================] - 0s 14ms/step - loss: 0.4084 - accuracy: 0.8796\nEpoch 72/100\n17/17 [==============================] - 0s 14ms/step - loss: 0.4008 - accuracy: 0.8815 - val_loss: 0.5435 - val_accuracy: 0.7750\nEpoch 73/100\n17/17 [==============================] - 0s 13ms/step - loss: 0.4041 - accuracy: 0.8750\nEpoch 74/100\n17/17 [==============================] - 0s 13ms/step - loss: 0.3967 - accuracy: 0.8796 - val_loss: 0.5307 - val_accuracy: 0.7583\nEpoch 75/100\n17/17 [==============================] - 0s 13ms/step - loss: 0.4018 - accuracy: 0.8741\nEpoch 76/100\n17/17 [==============================] - 0s 14ms/step - loss: 0.3935 - accuracy: 0.8750 - val_loss: 0.5407 - val_accuracy: 0.8000\nEpoch 77/100\n17/17 [==============================] - 0s 13ms/step - loss: 0.3968 - accuracy: 0.8778\nEpoch 78/100\n17/17 [==============================] - 0s 14ms/step - loss: 0.3940 - accuracy: 0.8787 - val_loss: 0.5346 - val_accuracy: 0.7750\nEpoch 79/100\n17/17 [==============================] - 0s 12ms/step - loss: 0.3922 - accuracy: 0.8750\nEpoch 80/100\n17/17 [==============================] - 0s 13ms/step - loss: 0.3864 - accuracy: 0.8787 - val_loss: 0.5411 - val_accuracy: 0.7750\nEpoch 81/100\n17/17 [==============================] - 0s 12ms/step - loss: 0.3840 - accuracy: 0.8917\nEpoch 82/100\n17/17 [==============================] - 0s 13ms/step - loss: 0.3857 - accuracy: 0.8750 - val_loss: 0.5025 - val_accuracy: 0.7917\nEpoch 83/100\n17/17 [==============================] - 0s 12ms/step - loss: 0.3735 - accuracy: 0.8870\nEpoch 84/100\n17/17 [==============================] - 0s 13ms/step - loss: 0.3820 - accuracy: 0.8880 - val_loss: 0.5222 - val_accuracy: 0.7500\nEpoch 85/100\n17/17 [==============================] - 0s 12ms/step - loss: 0.3842 - accuracy: 0.8815\nEpoch 86/100\n17/17 [==============================] - 0s 13ms/step - loss: 0.3709 - accuracy: 0.8870 - val_loss: 0.5276 - val_accuracy: 0.8000\nEpoch 87/100\n17/17 [==============================] - 0s 12ms/step - loss: 0.3651 - accuracy: 0.8907\nEpoch 88/100\n17/17 [==============================] - 0s 14ms/step - loss: 0.3748 - accuracy: 0.8806 - val_loss: 0.5085 - val_accuracy: 0.8000\nEpoch 89/100\n17/17 [==============================] - 0s 12ms/step - loss: 0.3611 - accuracy: 0.8815\nEpoch 90/100\n17/17 [==============================] - 0s 13ms/step - loss: 0.3604 - accuracy: 0.8907 - val_loss: 0.4910 - val_accuracy: 0.8083\nEpoch 91/100\n17/17 [==============================] - 0s 13ms/step - loss: 0.3523 - accuracy: 0.8972\nEpoch 92/100\n17/17 [==============================] - 0s 13ms/step - loss: 0.3530 - accuracy: 0.8935 - val_loss: 0.5018 - val_accuracy: 0.8000\nEpoch 93/100\n17/17 [==============================] - 0s 12ms/step - loss: 0.3487 - accuracy: 0.8935\nEpoch 94/100\n17/17 [==============================] - 0s 14ms/step - loss: 0.3433 - accuracy: 0.8954 - val_loss: 0.5011 - val_accuracy: 0.8083\nEpoch 95/100\n17/17 [==============================] - 0s 12ms/step - loss: 0.3470 - accuracy: 0.8935\nEpoch 96/100\n17/17 [==============================] - 0s 14ms/step - loss: 0.3492 - accuracy: 0.8935 - val_loss: 0.5071 - val_accuracy: 0.8000\nEpoch 97/100\n17/17 [==============================] - 0s 12ms/step - loss: 0.3434 - accuracy: 0.9009\nEpoch 98/100\n17/17 [==============================] - 0s 13ms/step - loss: 0.3376 - accuracy: 0.9000 - val_loss: 0.5033 - val_accuracy: 0.8000\nEpoch 99/100\n17/17 [==============================] - 0s 13ms/step - loss: 0.3425 - accuracy: 0.8907\nEpoch 100/100\n17/17 [==============================] - 0s 13ms/step - loss: 0.3363 - accuracy: 0.8889 - val_loss: 0.4881 - val_accuracy: 0.8000\n"
    },
    {
     "output_type": "execute_result",
     "data": {
      "text/plain": "<tensorflow.python.keras.callbacks.History at 0x7f3ab818fe50>"
     },
     "metadata": {},
     "execution_count": 34
    }
   ],
   "source": [
    "model.fit(train_db, epochs=100, validation_data=test_db, validation_freq=2)"
   ]
  },
  {
   "cell_type": "markdown",
   "metadata": {},
   "source": [
    "In Course 2, you had built a fully-connected network for this dataset. But since this is an image dataset, it is more natural to apply a ConvNet to it.\n",
    "\n",
    "To get started, let's examine the shapes of your data. "
   ]
  },
  {
   "cell_type": "code",
   "execution_count": 11,
   "metadata": {},
   "outputs": [
    {
     "output_type": "stream",
     "name": "stdout",
     "text": "number of training examples = 1080\nnumber of test examples = 120\nX_train shape: (1080, 64, 64, 3)\nY_train shape: (1080, 6)\nX_test shape: (120, 64, 64, 3)\nY_test shape: (120, 6)\n"
    }
   ],
   "source": [
    "X_train = X_train_orig/255.\n",
    "X_test = X_test_orig/255.\n",
    "Y_train = convert_to_one_hot(Y_train_orig, 6).T\n",
    "Y_test = convert_to_one_hot(Y_test_orig, 6).T\n",
    "print (\"number of training examples = \" + str(X_train.shape[0]))\n",
    "print (\"number of test examples = \" + str(X_test.shape[0]))\n",
    "print (\"X_train shape: \" + str(X_train.shape))\n",
    "print (\"Y_train shape: \" + str(Y_train.shape))\n",
    "print (\"X_test shape: \" + str(X_test.shape))\n",
    "print (\"Y_test shape: \" + str(Y_test.shape))\n",
    "conv_layers = {}"
   ]
  },
  {
   "cell_type": "markdown",
   "metadata": {
    "collapsed": true
   },
   "source": [
    "### 1.1 - Create placeholders\n",
    "\n",
    "TensorFlow requires that you create placeholders for the input data that will be fed into the model when running the session.\n",
    "\n",
    "**Exercise**: Implement the function below to create placeholders for the input image X and the output Y. You should not define the number of training examples for the moment. To do so, you could use \"None\" as the batch size, it will give you the flexibility to choose it later. Hence X should be of dimension **[None, n_H0, n_W0, n_C0]** and Y should be of dimension **[None, n_y]**.  [Hint](https://www.tensorflow.org/api_docs/python/tf/placeholder)."
   ]
  },
  {
   "cell_type": "code",
   "execution_count": 12,
   "metadata": {
    "collapsed": true
   },
   "outputs": [],
   "source": [
    "# GRADED FUNCTION: create_placeholders\n",
    "\n",
    "def create_placeholders(n_H0, n_W0, n_C0, n_y):\n",
    "    \"\"\"\n",
    "    Creates the placeholders for the tensorflow session.\n",
    "    \n",
    "    Arguments:\n",
    "    n_H0 -- scalar, height of an input image\n",
    "    n_W0 -- scalar, width of an input image\n",
    "    n_C0 -- scalar, number of channels of the input\n",
    "    n_y -- scalar, number of classes\n",
    "        \n",
    "    Returns:\n",
    "    X -- placeholder for the data input, of shape [None, n_H0, n_W0, n_C0] and dtype \"float\"\n",
    "    Y -- placeholder for the input labels, of shape [None, n_y] and dtype \"float\"\n",
    "    \"\"\"\n",
    "\n",
    "    ### START CODE HERE ### (≈2 lines)\n",
    "    X = tf.placeholder(tf.float32, [None, n_H0, n_W0, n_C0])\n",
    "    Y = tf.placeholder(tf.float32, [None, n_y])\n",
    "    ### END CODE HERE ###\n",
    "    \n",
    "    return X, Y"
   ]
  },
  {
   "cell_type": "code",
   "execution_count": 13,
   "metadata": {},
   "outputs": [
    {
     "output_type": "error",
     "ename": "AttributeError",
     "evalue": "module 'tensorflow' has no attribute 'placeholder'",
     "traceback": [
      "\u001b[0;31m---------------------------------------------------------------------------\u001b[0m",
      "\u001b[0;31mAttributeError\u001b[0m                            Traceback (most recent call last)",
      "\u001b[0;32m<ipython-input-13-b900d089d9ad>\u001b[0m in \u001b[0;36m<module>\u001b[0;34m\u001b[0m\n\u001b[0;32m----> 1\u001b[0;31m \u001b[0mX\u001b[0m\u001b[0;34m,\u001b[0m \u001b[0mY\u001b[0m \u001b[0;34m=\u001b[0m \u001b[0mcreate_placeholders\u001b[0m\u001b[0;34m(\u001b[0m\u001b[0;36m64\u001b[0m\u001b[0;34m,\u001b[0m \u001b[0;36m64\u001b[0m\u001b[0;34m,\u001b[0m \u001b[0;36m3\u001b[0m\u001b[0;34m,\u001b[0m \u001b[0;36m6\u001b[0m\u001b[0;34m)\u001b[0m\u001b[0;34m\u001b[0m\u001b[0;34m\u001b[0m\u001b[0m\n\u001b[0m\u001b[1;32m      2\u001b[0m \u001b[0mprint\u001b[0m \u001b[0;34m(\u001b[0m\u001b[0;34m\"X = \"\u001b[0m \u001b[0;34m+\u001b[0m \u001b[0mstr\u001b[0m\u001b[0;34m(\u001b[0m\u001b[0mX\u001b[0m\u001b[0;34m)\u001b[0m\u001b[0;34m)\u001b[0m\u001b[0;34m\u001b[0m\u001b[0;34m\u001b[0m\u001b[0m\n\u001b[1;32m      3\u001b[0m \u001b[0mprint\u001b[0m \u001b[0;34m(\u001b[0m\u001b[0;34m\"Y = \"\u001b[0m \u001b[0;34m+\u001b[0m \u001b[0mstr\u001b[0m\u001b[0;34m(\u001b[0m\u001b[0mY\u001b[0m\u001b[0;34m)\u001b[0m\u001b[0;34m)\u001b[0m\u001b[0;34m\u001b[0m\u001b[0;34m\u001b[0m\u001b[0m\n",
      "\u001b[0;32m<ipython-input-12-441f81f64ea1>\u001b[0m in \u001b[0;36mcreate_placeholders\u001b[0;34m(n_H0, n_W0, n_C0, n_y)\u001b[0m\n\u001b[1;32m     17\u001b[0m \u001b[0;34m\u001b[0m\u001b[0m\n\u001b[1;32m     18\u001b[0m     \u001b[0;31m### START CODE HERE ### (≈2 lines)\u001b[0m\u001b[0;34m\u001b[0m\u001b[0;34m\u001b[0m\u001b[0;34m\u001b[0m\u001b[0m\n\u001b[0;32m---> 19\u001b[0;31m     \u001b[0mX\u001b[0m \u001b[0;34m=\u001b[0m \u001b[0mtf\u001b[0m\u001b[0;34m.\u001b[0m\u001b[0mplaceholder\u001b[0m\u001b[0;34m(\u001b[0m\u001b[0mtf\u001b[0m\u001b[0;34m.\u001b[0m\u001b[0mfloat32\u001b[0m\u001b[0;34m,\u001b[0m \u001b[0;34m[\u001b[0m\u001b[0;32mNone\u001b[0m\u001b[0;34m,\u001b[0m \u001b[0mn_H0\u001b[0m\u001b[0;34m,\u001b[0m \u001b[0mn_W0\u001b[0m\u001b[0;34m,\u001b[0m \u001b[0mn_C0\u001b[0m\u001b[0;34m]\u001b[0m\u001b[0;34m)\u001b[0m\u001b[0;34m\u001b[0m\u001b[0;34m\u001b[0m\u001b[0m\n\u001b[0m\u001b[1;32m     20\u001b[0m     \u001b[0mY\u001b[0m \u001b[0;34m=\u001b[0m \u001b[0mtf\u001b[0m\u001b[0;34m.\u001b[0m\u001b[0mplaceholder\u001b[0m\u001b[0;34m(\u001b[0m\u001b[0mtf\u001b[0m\u001b[0;34m.\u001b[0m\u001b[0mfloat32\u001b[0m\u001b[0;34m,\u001b[0m \u001b[0;34m[\u001b[0m\u001b[0;32mNone\u001b[0m\u001b[0;34m,\u001b[0m \u001b[0mn_y\u001b[0m\u001b[0;34m]\u001b[0m\u001b[0;34m)\u001b[0m\u001b[0;34m\u001b[0m\u001b[0;34m\u001b[0m\u001b[0m\n\u001b[1;32m     21\u001b[0m     \u001b[0;31m### END CODE HERE ###\u001b[0m\u001b[0;34m\u001b[0m\u001b[0;34m\u001b[0m\u001b[0;34m\u001b[0m\u001b[0m\n",
      "\u001b[0;31mAttributeError\u001b[0m: module 'tensorflow' has no attribute 'placeholder'"
     ]
    }
   ],
   "source": [
    "X, Y = create_placeholders(64, 64, 3, 6)\n",
    "print (\"X = \" + str(X))\n",
    "print (\"Y = \" + str(Y))"
   ]
  },
  {
   "cell_type": "markdown",
   "metadata": {},
   "source": [
    "**Expected Output**\n",
    "\n",
    "<table> \n",
    "<tr>\n",
    "<td>\n",
    "    X = Tensor(\"Placeholder:0\", shape=(?, 64, 64, 3), dtype=float32)\n",
    "\n",
    "</td>\n",
    "</tr>\n",
    "<tr>\n",
    "<td>\n",
    "    Y = Tensor(\"Placeholder_1:0\", shape=(?, 6), dtype=float32)\n",
    "\n",
    "</td>\n",
    "</tr>\n",
    "</table>"
   ]
  },
  {
   "cell_type": "markdown",
   "metadata": {},
   "source": [
    "### 1.2 - Initialize parameters\n",
    "\n",
    "You will initialize weights/filters $W1$ and $W2$ using `tf.contrib.layers.xavier_initializer(seed = 0)`. You don't need to worry about bias variables as you will soon see that TensorFlow functions take care of the bias. Note also that you will only initialize the weights/filters for the conv2d functions. TensorFlow initializes the layers for the fully connected part automatically. We will talk more about that later in this assignment.\n",
    "\n",
    "**Exercise:** Implement initialize_parameters(). The dimensions for each group of filters are provided below. Reminder - to initialize a parameter $W$ of shape [1,2,3,4] in Tensorflow, use:\n",
    "```python\n",
    "W = tf.get_variable(\"W\", [1,2,3,4], initializer = ...)\n",
    "```\n",
    "[More Info](https://www.tensorflow.org/api_docs/python/tf/get_variable)."
   ]
  },
  {
   "cell_type": "code",
   "execution_count": 7,
   "metadata": {
    "collapsed": true
   },
   "outputs": [],
   "source": [
    "# GRADED FUNCTION: initialize_parameters\n",
    "\n",
    "def initialize_parameters():\n",
    "    \"\"\"\n",
    "    Initializes weight parameters to build a neural network with tensorflow. The shapes are:\n",
    "                        W1 : [4, 4, 3, 8]\n",
    "                        W2 : [2, 2, 8, 16]\n",
    "    Returns:\n",
    "    parameters -- a dictionary of tensors containing W1, W2\n",
    "    \"\"\"\n",
    "    \n",
    "    tf.set_random_seed(1)                              # so that your \"random\" numbers match ours\n",
    "        \n",
    "    ### START CODE HERE ### (approx. 2 lines of code)\n",
    "    W1 = tf.get_variable(\"W1\", [4, 4, 3, 8], initializer=tf.contrib.layers.xavier_initializer(seed=0))\n",
    "    W2 = tf.get_variable(\"W2\", [2, 2, 8, 16], initializer=tf.contrib.layers.xavier_initializer(seed=0))\n",
    "    ### END CODE HERE ###\n",
    "\n",
    "    parameters = {\"W1\": W1,\n",
    "                  \"W2\": W2}\n",
    "    \n",
    "    return parameters"
   ]
  },
  {
   "cell_type": "code",
   "execution_count": 8,
   "metadata": {},
   "outputs": [
    {
     "name": "stdout",
     "output_type": "stream",
     "text": [
      "W1 = [ 0.00131723  0.14176141 -0.04434952  0.09197326  0.14984085 -0.03514394\n",
      " -0.06847463  0.05245192]\n",
      "W2 = [-0.08566415  0.17750949  0.11974221  0.16773748 -0.0830943  -0.08058\n",
      " -0.00577033 -0.14643836  0.24162132 -0.05857408 -0.19055021  0.1345228\n",
      " -0.22779644 -0.1601823  -0.16117483 -0.10286498]\n"
     ]
    }
   ],
   "source": [
    "tf.reset_default_graph()\n",
    "with tf.Session() as sess_test:\n",
    "    parameters = initialize_parameters()\n",
    "    init = tf.global_variables_initializer()\n",
    "    sess_test.run(init)\n",
    "    print(\"W1 = \" + str(parameters[\"W1\"].eval()[1,1,1]))\n",
    "    print(\"W2 = \" + str(parameters[\"W2\"].eval()[1,1,1]))"
   ]
  },
  {
   "cell_type": "markdown",
   "metadata": {},
   "source": [
    "** Expected Output:**\n",
    "\n",
    "<table> \n",
    "\n",
    "    <tr>\n",
    "        <td>\n",
    "        W1 = \n",
    "        </td>\n",
    "        <td>\n",
    "[ 0.00131723  0.14176141 -0.04434952  0.09197326  0.14984085 -0.03514394 <br>\n",
    " -0.06847463  0.05245192]\n",
    "        </td>\n",
    "    </tr>\n",
    "\n",
    "    <tr>\n",
    "        <td>\n",
    "        W2 = \n",
    "        </td>\n",
    "        <td>\n",
    "[-0.08566415  0.17750949  0.11974221  0.16773748 -0.0830943  -0.08058 <br>\n",
    " -0.00577033 -0.14643836  0.24162132 -0.05857408 -0.19055021  0.1345228 <br>\n",
    " -0.22779644 -0.1601823  -0.16117483 -0.10286498]\n",
    "        </td>\n",
    "    </tr>\n",
    "\n",
    "</table>"
   ]
  },
  {
   "cell_type": "markdown",
   "metadata": {},
   "source": [
    "### 1.2 - Forward propagation\n",
    "\n",
    "In TensorFlow, there are built-in functions that carry out the convolution steps for you.\n",
    "\n",
    "- **tf.nn.conv2d(X,W1, strides = [1,s,s,1], padding = 'SAME'):** given an input $X$ and a group of filters $W1$, this function convolves $W1$'s filters on X. The third input ([1,f,f,1]) represents the strides for each dimension of the input (m, n_H_prev, n_W_prev, n_C_prev). You can read the full documentation [here](https://www.tensorflow.org/api_docs/python/tf/nn/conv2d)\n",
    "\n",
    "- **tf.nn.max_pool(A, ksize = [1,f,f,1], strides = [1,s,s,1], padding = 'SAME'):** given an input A, this function uses a window of size (f, f) and strides of size (s, s) to carry out max pooling over each window. You can read the full documentation [here](https://www.tensorflow.org/api_docs/python/tf/nn/max_pool)\n",
    "\n",
    "- **tf.nn.relu(Z1):** computes the elementwise ReLU of Z1 (which can be any shape). You can read the full documentation [here.](https://www.tensorflow.org/api_docs/python/tf/nn/relu)\n",
    "\n",
    "- **tf.contrib.layers.flatten(P)**: given an input P, this function flattens each example into a 1D vector it while maintaining the batch-size. It returns a flattened tensor with shape [batch_size, k]. You can read the full documentation [here.](https://www.tensorflow.org/api_docs/python/tf/contrib/layers/flatten)\n",
    "\n",
    "- **tf.contrib.layers.fully_connected(F, num_outputs):** given a the flattened input F, it returns the output computed using a fully connected layer. You can read the full documentation [here.](https://www.tensorflow.org/api_docs/python/tf/contrib/layers/fully_connected)\n",
    "\n",
    "In the last function above (`tf.contrib.layers.fully_connected`), the fully connected layer automatically initializes weights in the graph and keeps on training them as you train the model. Hence, you did not need to initialize those weights when initializing the parameters. \n",
    "\n",
    "\n",
    "**Exercise**: \n",
    "\n",
    "Implement the `forward_propagation` function below to build the following model: `CONV2D -> RELU -> MAXPOOL -> CONV2D -> RELU -> MAXPOOL -> FLATTEN -> FULLYCONNECTED`. You should use the functions above. \n",
    "\n",
    "In detail, we will use the following parameters for all the steps:\n",
    "     - Conv2D: stride 1, padding is \"SAME\"\n",
    "     - ReLU\n",
    "     - Max pool: Use an 8 by 8 filter size and an 8 by 8 stride, padding is \"SAME\"\n",
    "     - Conv2D: stride 1, padding is \"SAME\"\n",
    "     - ReLU\n",
    "     - Max pool: Use a 4 by 4 filter size and a 4 by 4 stride, padding is \"SAME\"\n",
    "     - Flatten the previous output.\n",
    "     - FULLYCONNECTED (FC) layer: Apply a fully connected layer without an non-linear activation function. Do not call the softmax here. This will result in 6 neurons in the output layer, which then get passed later to a softmax. In TensorFlow, the softmax and cost function are lumped together into a single function, which you'll call in a different function when computing the cost. "
   ]
  },
  {
   "cell_type": "code",
   "execution_count": 9,
   "metadata": {
    "collapsed": true
   },
   "outputs": [],
   "source": [
    "# GRADED FUNCTION: forward_propagation\n",
    "\n",
    "def forward_propagation(X, parameters):\n",
    "    \"\"\"\n",
    "    Implements the forward propagation for the model:\n",
    "    CONV2D -> RELU -> MAXPOOL -> CONV2D -> RELU -> MAXPOOL -> FLATTEN -> FULLYCONNECTED\n",
    "    \n",
    "    Arguments:\n",
    "    X -- input dataset placeholder, of shape (input size, number of examples)\n",
    "    parameters -- python dictionary containing your parameters \"W1\", \"W2\"\n",
    "                  the shapes are given in initialize_parameters\n",
    "\n",
    "    Returns:\n",
    "    Z3 -- the output of the last LINEAR unit\n",
    "    \"\"\"\n",
    "    \n",
    "    # Retrieve the parameters from the dictionary \"parameters\" \n",
    "    W1 = parameters['W1']\n",
    "    W2 = parameters['W2']\n",
    "    \n",
    "    ### START CODE HERE ###\n",
    "    # CONV2D: stride of 1, padding 'SAME'\n",
    "    Z1 = tf.nn.conv2d(X, W1, strides=[1, 1, 1, 1], padding='SAME')\n",
    "    # RELU\n",
    "    A1 = tf.nn.relu(Z1)\n",
    "    # MAXPOOL: window 8x8, stride 8, padding 'SAME'\n",
    "    P1 = tf.nn.max_pool(A1, ksize = [1, 8, 8, 1], strides = [1, 8, 8, 1], padding='SAME')\n",
    "    # CONV2D: filters W2, stride 1, padding 'SAME'\n",
    "    Z2 = tf.nn.conv2d(P1, W2, strides=[1, 1, 1, 1], padding='SAME')\n",
    "    # RELU\n",
    "    A2 = tf.nn.relu(Z2)\n",
    "    # MAXPOOL: window 4x4, stride 4, padding 'SAME'\n",
    "    P2 = tf.nn.max_pool(A2, ksize = [1, 4, 4, 1], strides = [1, 4, 4, 1], padding='SAME')\n",
    "    # FLATTEN\n",
    "    P = tf.contrib.layers.flatten(P2)\n",
    "    # FULLY-CONNECTED without non-linear activation function (not not call softmax).\n",
    "    # 6 neurons in output layer. Hint: one of the arguments should be \"activation_fn=None\" \n",
    "    Z3 = tf.contrib.layers.fully_connected(P, 6, activation_fn=None)\n",
    "    ### END CODE HERE ###\n",
    "\n",
    "    return Z3"
   ]
  },
  {
   "cell_type": "code",
   "execution_count": 10,
   "metadata": {},
   "outputs": [
    {
     "name": "stdout",
     "output_type": "stream",
     "text": [
      "Z3 = [[-0.44670227 -1.57208765 -1.53049231 -2.31013036 -1.29104376  0.46852064]\n",
      " [-0.17601591 -1.57972014 -1.4737016  -2.61672091 -1.00810647  0.5747785 ]]\n"
     ]
    }
   ],
   "source": [
    "tf.reset_default_graph()\n",
    "\n",
    "with tf.Session() as sess:\n",
    "    np.random.seed(1)\n",
    "    X, Y = create_placeholders(64, 64, 3, 6)\n",
    "    parameters = initialize_parameters()\n",
    "    Z3 = forward_propagation(X, parameters)\n",
    "    init = tf.global_variables_initializer()\n",
    "    sess.run(init)\n",
    "    a = sess.run(Z3, {X: np.random.randn(2,64,64,3), Y: np.random.randn(2,6)})\n",
    "    print(\"Z3 = \" + str(a))"
   ]
  },
  {
   "cell_type": "markdown",
   "metadata": {},
   "source": [
    "**Expected Output**:\n",
    "\n",
    "<table> \n",
    "    <td> \n",
    "    Z3 =\n",
    "    </td>\n",
    "    <td>\n",
    "    [[-0.44670227 -1.57208765 -1.53049231 -2.31013036 -1.29104376  0.46852064] <br>\n",
    " [-0.17601591 -1.57972014 -1.4737016  -2.61672091 -1.00810647  0.5747785 ]]\n",
    "    </td>\n",
    "</table>"
   ]
  },
  {
   "cell_type": "markdown",
   "metadata": {},
   "source": [
    "### 1.3 - Compute cost\n",
    "\n",
    "Implement the compute cost function below. You might find these two functions helpful: \n",
    "\n",
    "- **tf.nn.softmax_cross_entropy_with_logits(logits = Z3, labels = Y):** computes the softmax entropy loss. This function both computes the softmax activation function as well as the resulting loss. You can check the full documentation  [here.](https://www.tensorflow.org/api_docs/python/tf/nn/softmax_cross_entropy_with_logits)\n",
    "- **tf.reduce_mean:** computes the mean of elements across dimensions of a tensor. Use this to sum the losses over all the examples to get the overall cost. You can check the full documentation [here.](https://www.tensorflow.org/api_docs/python/tf/reduce_mean)\n",
    "\n",
    "** Exercise**: Compute the cost below using the function above."
   ]
  },
  {
   "cell_type": "code",
   "execution_count": 11,
   "metadata": {
    "collapsed": true
   },
   "outputs": [],
   "source": [
    "# GRADED FUNCTION: compute_cost \n",
    "\n",
    "def compute_cost(Z3, Y):\n",
    "    \"\"\"\n",
    "    Computes the cost\n",
    "    \n",
    "    Arguments:\n",
    "    Z3 -- output of forward propagation (output of the last LINEAR unit), of shape (6, number of examples)\n",
    "    Y -- \"true\" labels vector placeholder, same shape as Z3\n",
    "    \n",
    "    Returns:\n",
    "    cost - Tensor of the cost function\n",
    "    \"\"\"\n",
    "    \n",
    "    ### START CODE HERE ### (1 line of code)\n",
    "    cost = tf.reduce_mean(tf.nn.softmax_cross_entropy_with_logits(logits=Z3, labels=Y))\n",
    "    ### END CODE HERE ###\n",
    "    \n",
    "    return cost"
   ]
  },
  {
   "cell_type": "code",
   "execution_count": 12,
   "metadata": {},
   "outputs": [
    {
     "name": "stdout",
     "output_type": "stream",
     "text": [
      "cost = 2.91034\n"
     ]
    }
   ],
   "source": [
    "tf.reset_default_graph()\n",
    "\n",
    "with tf.Session() as sess:\n",
    "    np.random.seed(1)\n",
    "    X, Y = create_placeholders(64, 64, 3, 6)\n",
    "    parameters = initialize_parameters()\n",
    "    Z3 = forward_propagation(X, parameters)\n",
    "    cost = compute_cost(Z3, Y)\n",
    "    init = tf.global_variables_initializer()\n",
    "    sess.run(init)\n",
    "    a = sess.run(cost, {X: np.random.randn(4,64,64,3), Y: np.random.randn(4,6)})\n",
    "    print(\"cost = \" + str(a))"
   ]
  },
  {
   "cell_type": "markdown",
   "metadata": {},
   "source": [
    "**Expected Output**: \n",
    "\n",
    "<table>\n",
    "    <td> \n",
    "    cost =\n",
    "    </td> \n",
    "    \n",
    "    <td> \n",
    "    2.91034\n",
    "    </td> \n",
    "</table>"
   ]
  },
  {
   "cell_type": "markdown",
   "metadata": {},
   "source": [
    "## 1.4 Model \n",
    "\n",
    "Finally you will merge the helper functions you implemented above to build a model. You will train it on the SIGNS dataset. \n",
    "\n",
    "You have implemented `random_mini_batches()` in the Optimization programming assignment of course 2. Remember that this function returns a list of mini-batches. \n",
    "\n",
    "**Exercise**: Complete the function below. \n",
    "\n",
    "The model below should:\n",
    "\n",
    "- create placeholders\n",
    "- initialize parameters\n",
    "- forward propagate\n",
    "- compute the cost\n",
    "- create an optimizer\n",
    "\n",
    "Finally you will create a session and run a for loop  for num_epochs, get the mini-batches, and then for each mini-batch you will optimize the function. [Hint for initializing the variables](https://www.tensorflow.org/api_docs/python/tf/global_variables_initializer)"
   ]
  },
  {
   "cell_type": "code",
   "execution_count": 13,
   "metadata": {
    "collapsed": true
   },
   "outputs": [],
   "source": [
    "# GRADED FUNCTION: model\n",
    "\n",
    "def model(X_train, Y_train, X_test, Y_test, learning_rate=0.009,\n",
    "          num_epochs=100, minibatch_size=64, print_cost=True):\n",
    "    \"\"\"\n",
    "    Implements a three-layer ConvNet in Tensorflow:\n",
    "    CONV2D -> RELU -> MAXPOOL -> CONV2D -> RELU -> MAXPOOL -> FLATTEN -> FULLYCONNECTED\n",
    "    \n",
    "    Arguments:\n",
    "    X_train -- training set, of shape (None, 64, 64, 3)\n",
    "    Y_train -- test set, of shape (None, n_y = 6)\n",
    "    X_test -- training set, of shape (None, 64, 64, 3)\n",
    "    Y_test -- test set, of shape (None, n_y = 6)\n",
    "    learning_rate -- learning rate of the optimization\n",
    "    num_epochs -- number of epochs of the optimization loop\n",
    "    minibatch_size -- size of a minibatch\n",
    "    print_cost -- True to print the cost every 100 epochs\n",
    "    \n",
    "    Returns:\n",
    "    train_accuracy -- real number, accuracy on the train set (X_train)\n",
    "    test_accuracy -- real number, testing accuracy on the test set (X_test)\n",
    "    parameters -- parameters learnt by the model. They can then be used to predict.\n",
    "    \"\"\"\n",
    "    \n",
    "    ops.reset_default_graph()                         # to be able to rerun the model without overwriting tf variables\n",
    "    tf.set_random_seed(1)                             # to keep results consistent (tensorflow seed)\n",
    "    seed = 3                                          # to keep results consistent (numpy seed)\n",
    "    (m, n_H0, n_W0, n_C0) = X_train.shape             \n",
    "    n_y = Y_train.shape[1]                            \n",
    "    costs = []                                        # To keep track of the cost\n",
    "    \n",
    "    # Create Placeholders of the correct shape\n",
    "    ### START CODE HERE ### (1 line)\n",
    "    X, Y = create_placeholders(n_H0, n_W0, n_C0, n_y)\n",
    "    ### END CODE HERE ###\n",
    "\n",
    "    # Initialize parameters\n",
    "    ### START CODE HERE ### (1 line)\n",
    "    parameters = initialize_parameters()\n",
    "    ### END CODE HERE ###\n",
    "    \n",
    "    # Forward propagation: Build the forward propagation in the tensorflow graph\n",
    "    ### START CODE HERE ### (1 line)\n",
    "    Z3 = forward_propagation(X, parameters)\n",
    "    ### END CODE HERE ###\n",
    "    \n",
    "    # Cost function: Add cost function to tensorflow graph\n",
    "    ### START CODE HERE ### (1 line)\n",
    "    cost = compute_cost(Z3, Y)\n",
    "    ### END CODE HERE ###\n",
    "    \n",
    "    # Backpropagation: Define the tensorflow optimizer. Use an AdamOptimizer that minimizes the cost.\n",
    "    ### START CODE HERE ### (1 line)\n",
    "    optimizer = tf.train.AdamOptimizer(learning_rate=learning_rate).minimize(cost)\n",
    "    ### END CODE HERE ###\n",
    "    \n",
    "    # Initialize all the variables globally\n",
    "    init = tf.global_variables_initializer()\n",
    "     \n",
    "    # Start the session to compute the tensorflow graph\n",
    "    with tf.Session() as sess:\n",
    "        \n",
    "        # Run the initialization\n",
    "        sess.run(init)\n",
    "        \n",
    "        # Do the training loop\n",
    "        for epoch in range(num_epochs):\n",
    "\n",
    "            minibatch_cost = 0.\n",
    "            num_minibatches = int(m / minibatch_size) # number of minibatches of size minibatch_size in the train set\n",
    "            seed = seed + 1\n",
    "            minibatches = random_mini_batches(X_train, Y_train, minibatch_size, seed)\n",
    "\n",
    "            for minibatch in minibatches:\n",
    "\n",
    "                # Select a minibatch\n",
    "                (minibatch_X, minibatch_Y) = minibatch\n",
    "                # IMPORTANT: The line that runs the graph on a minibatch.\n",
    "                # Run the session to execute the optimizer and the cost, the feedict should contain a minibatch for (X,Y).\n",
    "                ### START CODE HERE ### (1 line)\n",
    "                _ , temp_cost = sess.run([optimizer, cost], feed_dict={X:minibatch_X, Y:minibatch_Y})\n",
    "                ### END CODE HERE ###\n",
    "                \n",
    "                minibatch_cost += temp_cost / num_minibatches\n",
    "                \n",
    "\n",
    "            # Print the cost every epoch\n",
    "            if print_cost == True and epoch % 5 == 0:\n",
    "                print (\"Cost after epoch %i: %f\" % (epoch, minibatch_cost))\n",
    "            if print_cost == True and epoch % 1 == 0:\n",
    "                costs.append(minibatch_cost)\n",
    "        \n",
    "        \n",
    "        # plot the cost\n",
    "        plt.plot(np.squeeze(costs))\n",
    "        plt.ylabel('cost')\n",
    "        plt.xlabel('iterations (per tens)')\n",
    "        plt.title(\"Learning rate =\" + str(learning_rate))\n",
    "        plt.show()\n",
    "\n",
    "        # Calculate the correct predictions\n",
    "        predict_op = tf.argmax(Z3, 1)\n",
    "        correct_prediction = tf.equal(predict_op, tf.argmax(Y, 1))\n",
    "        \n",
    "        # Calculate accuracy on the test set\n",
    "        accuracy = tf.reduce_mean(tf.cast(correct_prediction, \"float\"))\n",
    "        print(accuracy)\n",
    "        train_accuracy = accuracy.eval({X: X_train, Y: Y_train})\n",
    "        test_accuracy = accuracy.eval({X: X_test, Y: Y_test})\n",
    "        print(\"Train Accuracy:\", train_accuracy)\n",
    "        print(\"Test Accuracy:\", test_accuracy)\n",
    "                \n",
    "        return train_accuracy, test_accuracy, parameters"
   ]
  },
  {
   "cell_type": "markdown",
   "metadata": {},
   "source": [
    "Run the following cell to train your model for 100 epochs. Check if your cost after epoch 0 and 5 matches our output. If not, stop the cell and go back to your code!"
   ]
  },
  {
   "cell_type": "code",
   "execution_count": 14,
   "metadata": {},
   "outputs": [
    {
     "name": "stdout",
     "output_type": "stream",
     "text": [
      "Cost after epoch 0: 1.917929\n",
      "Cost after epoch 5: 1.506757\n",
      "Cost after epoch 10: 0.955359\n",
      "Cost after epoch 15: 0.845802\n",
      "Cost after epoch 20: 0.701174\n",
      "Cost after epoch 25: 0.571977\n",
      "Cost after epoch 30: 0.518435\n",
      "Cost after epoch 35: 0.495806\n",
      "Cost after epoch 40: 0.429827\n",
      "Cost after epoch 45: 0.407291\n",
      "Cost after epoch 50: 0.366394\n",
      "Cost after epoch 55: 0.376922\n",
      "Cost after epoch 60: 0.299491\n",
      "Cost after epoch 65: 0.338870\n",
      "Cost after epoch 70: 0.316400\n",
      "Cost after epoch 75: 0.310413\n",
      "Cost after epoch 80: 0.249549\n",
      "Cost after epoch 85: 0.243457\n",
      "Cost after epoch 90: 0.200031\n",
      "Cost after epoch 95: 0.175452\n"
     ]
    },
    {
     "data": {
      "image/png": "[encoded data removed]",
      "text/plain": [
       "<matplotlib.figure.Figure at 0x7fa860fcdc88>"
      ]
     },
     "metadata": {},
     "output_type": "display_data"
    },
    {
     "name": "stdout",
     "output_type": "stream",
     "text": [
      "Tensor(\"Mean_1:0\", shape=(), dtype=float32)\n",
      "Train Accuracy: 0.940741\n",
      "Test Accuracy: 0.783333\n"
     ]
    }
   ],
   "source": [
    "_, _, parameters = model(X_train, Y_train, X_test, Y_test)"
   ]
  },
  {
   "cell_type": "markdown",
   "metadata": {},
   "source": [
    "**Expected output**: although it may not match perfectly, your expected output should be close to ours and your cost value should decrease.\n",
    "\n",
    "<table> \n",
    "<tr>\n",
    "    <td> \n",
    "    **Cost after epoch 0 =**\n",
    "    </td>\n",
    "\n",
    "    <td> \n",
    "      1.917929\n",
    "    </td> \n",
    "</tr>\n",
    "<tr>\n",
    "    <td> \n",
    "    **Cost after epoch 5 =**\n",
    "    </td>\n",
    "\n",
    "    <td> \n",
    "      1.506757\n",
    "    </td> \n",
    "</tr>\n",
    "<tr>\n",
    "    <td> \n",
    "    **Train Accuracy   =**\n",
    "    </td>\n",
    "\n",
    "    <td> \n",
    "      0.940741\n",
    "    </td> \n",
    "</tr> \n",
    "\n",
    "<tr>\n",
    "    <td> \n",
    "    **Test Accuracy   =**\n",
    "    </td>\n",
    "\n",
    "    <td> \n",
    "      0.783333\n",
    "    </td> \n",
    "</tr> \n",
    "</table>"
   ]
  },
  {
   "cell_type": "markdown",
   "metadata": {},
   "source": [
    "Congratulations! You have finised the assignment and built a model that recognizes SIGN language with almost 80% accuracy on the test set. If you wish, feel free to play around with this dataset further. You can actually improve its accuracy by spending more time tuning the hyperparameters, or using regularization (as this model clearly has a high variance). \n",
    "\n",
    "Once again, here's a thumbs up for your work! "
   ]
  },
  {
   "cell_type": "code",
   "execution_count": 15,
   "metadata": {},
   "outputs": [
    {
     "data": {
      "text/plain": [
       "<matplotlib.image.AxesImage at 0x7fa860df3588>"
      ]
     },
     "execution_count": 15,
     "metadata": {},
     "output_type": "execute_result"
    },
    {
     "data": {
      "image/png": "[encoded data removed]",
      "text/plain": [
       "<matplotlib.figure.Figure at 0x7fa860edbfd0>"
      ]
     },
     "metadata": {},
     "output_type": "display_data"
    }
   ],
   "source": [
    "fname = \"images/thumbs_up.jpg\"\n",
    "image = np.array(ndimage.imread(fname, flatten=False))\n",
    "my_image = scipy.misc.imresize(image, size=(64,64))\n",
    "plt.imshow(my_image)"
   ]
  }
 ],
 "metadata": {
  "coursera": {
   "course_slug": "convolutional-neural-networks",
   "graded_item_id": "bwbJV",
   "launcher_item_id": "0TkXB"
  },
  "kernelspec": {
   "display_name": "tf",
   "language": "python",
   "name": "tf"
  },
  "language_info": {
   "codemirror_mode": {
    "name": "ipython",
    "version": 3
   },
   "file_extension": ".py",
   "mimetype": "text/x-python",
   "name": "python",
   "nbconvert_exporter": "python",
   "pygments_lexer": "ipython3",
   "version": "3.7.6-final"
  }
 },
 "nbformat": 4,
 "nbformat_minor": 1
}